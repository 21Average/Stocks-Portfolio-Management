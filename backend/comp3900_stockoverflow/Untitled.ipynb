{
 "cells": [
  {
   "cell_type": "code",
   "execution_count": 18,
   "metadata": {},
   "outputs": [
    {
     "name": "stdout",
     "output_type": "stream",
     "text": [
      "Empty DataFrame\n",
      "Columns: [[{'date': '2021-03-15',  'minute': '09:30',  'label': '09:30 AM',  'high': 26.67,  'low': 27.25,  'open': 27.68,  'close': 27.06,  'average': 26.94,  'volume': 685,  'notional': 18608.8,  'numberOfTrades': 2},  {'date': '2021-03-15',  'minute': '09:31',  'label': '09:31 AM',  'high': 27.17,  'low': 26.63,  'open': 27.21,  'close': 27.56,  'average': 26.43,  'volume': 3009,  'notional': 80258.476,  'numberOfTrades': 27},  {'date': '2021-03-15'.1,  'minute': '09:32',  'label': '09:32 AM',  'high': 26.25,  'low': 26.19,  'open': 26.31,  'close': 26.54,  'average': 25.92,  'volume': 5136,  'notional': 133166.2,  'numberOfTrades': 30},  {'date': '2021-03-15'.2,  'minute': '09:33',  'label': '09:33 AM',  'high': 26.01,  'low': 26.94,  'open': 26.84,  'close': 25.93,  'average': 26.263,  'volume': 1869,  'notional': 48527.9,  'numberOfTrades': 13},  {'date': '2021-03-15'.3,  'minute': '09:34',  'label': '09:34 AM',  'high': 26.74,  'low': 26.8,  'open': 26.68,  'close': 25.88,  'average': 26.399,  'volume': 1548,  'notional': 40938.58,  'numberOfTrades': 15},  {'date': '2021-03-15'.4,  'minute': '09:35',  'label': '09:35 AM',  'high': 27.2,  'low': 26.22,  'open': 26.03,  'close': 26.11,  'average': 25.748,  'volume': 11135,  'notional': 273198.95,  'numberOfTrades': 38},  {'date': '2021-03-15'.5,  'minute': '09:36',  'label': '09:36 AM',  'high': 26.21,  'low': 26.5,  'open': 26.58,  'close': 25.98,  'average': 26.893,  'volume': 1702,  'notional': 45993.18,  'numberOfTrades': 7},  {'date': '2021-03-15'.6,  'minute': '09:37',  'label': '09:37 AM',  'high': 26.544,  'low': 26.71,  'open': 26.886,  'close': 27.05,  'average': 26.389,  'volume': 696,  'notional': 17955.51,  'numberOfTrades': 6},  {'date': '2021-03-15'.7,  'minute': '09:38',  'label': '09:38 AM',  'high': 26.575,  'low': 27.1,  'open': 26.98,  'close': 26.53,  'average': 26.601,  'volume': 2752,  'notional': 70402.58,  'numberOfTrades': 16},  {'date': '2021-03-15'.8, ...]\n",
      "Index: []\n",
      "\n",
      "[0 rows x 4290 columns]\n"
     ]
    }
   ],
   "source": [
    "import pandas as pd\n",
    "df = pd.read_csv(\"output.txt\")\n",
    "print(df)"
   ]
  },
  {
   "cell_type": "code",
   "execution_count": null,
   "metadata": {},
   "outputs": [],
   "source": []
  }
 ],
 "metadata": {
  "kernelspec": {
   "display_name": "Python 3",
   "language": "python",
   "name": "python3"
  },
  "language_info": {
   "codemirror_mode": {
    "name": "ipython",
    "version": 3
   },
   "file_extension": ".py",
   "mimetype": "text/x-python",
   "name": "python",
   "nbconvert_exporter": "python",
   "pygments_lexer": "ipython3",
   "version": "3.7.6"
  }
 },
 "nbformat": 4,
 "nbformat_minor": 4
}
