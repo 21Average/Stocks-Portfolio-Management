{
  "nbformat": 4,
  "nbformat_minor": 0,
  "metadata": {
    "colab": {
      "name": "COMP3900_Sentiment_Analysis_Experiment.ipynb",
      "provenance": [],
      "collapsed_sections": []
    },
    "kernelspec": {
      "name": "python3",
      "display_name": "Python 3"
    },
    "language_info": {
      "name": "python"
    },
    "accelerator": "GPU"
  },
  "cells": [
    {
      "cell_type": "markdown",
      "metadata": {
        "id": "Pv9MpZx14VjG"
      },
      "source": [
        "# Importing"
      ]
    },
    {
      "cell_type": "code",
      "metadata": {
        "colab": {
          "base_uri": "https://localhost:8080/"
        },
        "id": "pfevRKCC1XFo",
        "outputId": "037e2507-b34f-432d-b412-2d11dbae047c"
      },
      "source": [
        "import joblib\n",
        "import pickle\n",
        "import tensorflow_datasets as tfds\n",
        "import tensorflow as tf\n",
        "\n",
        "%matplotlib inline\n",
        "import matplotlib.pyplot as plt\n",
        "import numpy as np\n",
        "from keras import models, layers,  regularizers\n",
        "from keras.preprocessing.sequence import pad_sequences\n",
        "from keras.datasets import imdb\n",
        "\n",
        "import nltk\n",
        "from nltk.corpus import stopwords\n",
        "from nltk.stem import PorterStemmer\n",
        "from nltk import word_tokenize\n",
        "\n",
        "nltk.download('punkt')\n",
        "nltk.download('stopwords')\n",
        "\n",
        "!pip install vaderSentiment\n",
        "from vaderSentiment.vaderSentiment import SentimentIntensityAnalyzer\n",
        "\n",
        "import pandas as pd\n",
        "from sklearn.metrics import confusion_matrix,accuracy_score,classification_report"
      ],
      "execution_count": 9,
      "outputs": [
        {
          "output_type": "stream",
          "text": [
            "[nltk_data] Downloading package punkt to /root/nltk_data...\n",
            "[nltk_data]   Unzipping tokenizers/punkt.zip.\n",
            "[nltk_data] Downloading package stopwords to /root/nltk_data...\n",
            "[nltk_data]   Unzipping corpora/stopwords.zip.\n",
            "Requirement already satisfied: vaderSentiment in /usr/local/lib/python3.7/dist-packages (3.3.2)\n",
            "Requirement already satisfied: requests in /usr/local/lib/python3.7/dist-packages (from vaderSentiment) (2.23.0)\n",
            "Requirement already satisfied: chardet<4,>=3.0.2 in /usr/local/lib/python3.7/dist-packages (from requests->vaderSentiment) (3.0.4)\n",
            "Requirement already satisfied: certifi>=2017.4.17 in /usr/local/lib/python3.7/dist-packages (from requests->vaderSentiment) (2020.12.5)\n",
            "Requirement already satisfied: idna<3,>=2.5 in /usr/local/lib/python3.7/dist-packages (from requests->vaderSentiment) (2.10)\n",
            "Requirement already satisfied: urllib3!=1.25.0,!=1.25.1,<1.26,>=1.21.1 in /usr/local/lib/python3.7/dist-packages (from requests->vaderSentiment) (1.24.3)\n"
          ],
          "name": "stdout"
        }
      ]
    },
    {
      "cell_type": "markdown",
      "metadata": {
        "id": "dJ-QDdHE8kvs"
      },
      "source": [
        "# 1. Benchmark - Using VadarSentiment"
      ]
    },
    {
      "cell_type": "code",
      "metadata": {
        "id": "PB1tO5R5HxJq"
      },
      "source": [
        "# New words and values to update the Lexicon.\n",
        "new_words = {\n",
        "    'crushes': 10,\n",
        "    'beats': 5,\n",
        "    'increase':10,\n",
        "    'increasing':10,\n",
        "    'long': 50,\n",
        "    'misses': -5,\n",
        "    'trouble': -10,\n",
        "    'falls': -100,\n",
        "    'drops':-100,\n",
        "    'dropping':-200,\n",
        "    'falling':-100\n",
        "}"
      ],
      "execution_count": 10,
      "outputs": []
    },
    {
      "cell_type": "code",
      "metadata": {
        "colab": {
          "base_uri": "https://localhost:8080/"
        },
        "id": "L_VEmU0e8YpA",
        "outputId": "dc71f4c7-2bcc-4f30-b569-e83ef6b71083"
      },
      "source": [
        "# Initilise the analyser\n",
        "analyser = SentimentIntensityAnalyzer()\n",
        "\n",
        "# Using the analyser to analyse a negative sentiment, without the lexicon updates\n",
        "score = analyser.polarity_scores(\"Apple Stock Is Falling Again. Why That’s Not a Problem for the Dow.\")\n",
        "print(score)\n",
        "\n",
        "# Using the analyser to analyse the same negative sentiment, with the lexicon updates\n",
        "analyser.lexicon.update(new_words)\n",
        "# Example\n",
        "score = analyser.polarity_scores(\"Apple Stock Is Falling Again. Why That’s Not a Problem for the Dow.\")\n",
        "print(score)"
      ],
      "execution_count": 11,
      "outputs": [
        {
          "output_type": "stream",
          "text": [
            "{'neg': 0.108, 'neu': 0.74, 'pos': 0.152, 'compound': 0.1675}\n",
            "{'neg': 0.884, 'neu': 0.096, 'pos': 0.02, 'compound': -0.9992}\n"
          ],
          "name": "stdout"
        }
      ]
    },
    {
      "cell_type": "markdown",
      "metadata": {
        "id": "xSqKRig48ony"
      },
      "source": [
        "# 2. Using LSTM model trained on IMDB dataset from tensorflow"
      ]
    },
    {
      "cell_type": "code",
      "metadata": {
        "colab": {
          "base_uri": "https://localhost:8080/",
          "height": 1000
        },
        "id": "2exMcghb8edT",
        "outputId": "894cba37-4c87-4d4d-b2cb-658d6e3e4b71"
      },
      "source": [
        "'''\n",
        "REFERENCES:\n",
        "https://www.tensorflow.org/tutorials/text/text_classification_rnn\n",
        "and external runable version\n",
        "https://colab.research.google.com/github/tensorflow/docs/blob/master/site/en/tutorials/text/text_classification_rnn.ipynb#scrollTo=hw86wWS4YgR2\n",
        "'''\n",
        "\n",
        "def plot_graphs(history, metric):\n",
        "    plt.plot(history.history[metric])\n",
        "    plt.plot(history.history['val_'+metric], '')\n",
        "    plt.xlabel(\"Epochs\")\n",
        "    plt.ylabel(metric)\n",
        "    plt.legend([metric, 'val_'+metric])\n",
        "    plt.show()\n",
        "\n",
        "dataset, info = tfds.load('imdb_reviews/subwords8k', with_info=True, as_supervised=True)\n",
        "train_dataset, test_dataset = dataset['train'], dataset['test']\n",
        "\n",
        "encoder = info.features['text'].encoder\n",
        "\n",
        "print('Vocabulary size: {}'.format(encoder.vocab_size))\n",
        "\n",
        "sample_string = 'Hello TensorFlow.'\n",
        "\n",
        "encoded_string = encoder.encode(sample_string)\n",
        "print('Encoded string is {}'.format(encoded_string))\n",
        "\n",
        "original_string = encoder.decode(encoded_string)\n",
        "print('The original string: \"{}\"'.format(original_string))\n",
        "\n",
        "assert original_string == sample_string\n",
        "\n",
        "for index in encoded_string:\n",
        "    print('{} ----> {}'.format(index, encoder.decode([index])))\n",
        "\n",
        "BUFFER_SIZE = 1000\n",
        "BATCH_SIZE = 64\n",
        "\n",
        "train_dataset = train_dataset.shuffle(BUFFER_SIZE)\n",
        "train_dataset = train_dataset.padded_batch(BATCH_SIZE, ([-1],[]))\n",
        "test_dataset = test_dataset.padded_batch(BATCH_SIZE, ([-1],[]))\n",
        "\n",
        "def pad_to_size(vec, size):\n",
        "    zeros = [0] * (size - len(vec))\n",
        "    vec.extend(zeros)\n",
        "    return vec\n",
        "\n",
        "def sample_predict(sample_pred_text, pad, model):\n",
        "    encoded_sample_pred_text = encoder.encode(sample_pred_text)\n",
        "\n",
        "    if pad:\n",
        "        encoded_sample_pred_text = pad_to_size(encoded_sample_pred_text, 64)\n",
        "    encoded_sample_pred_text = tf.cast(encoded_sample_pred_text, tf.float32)\n",
        "    predictions = model.predict(tf.expand_dims(encoded_sample_pred_text, 0))\n",
        "\n",
        "    return (predictions)\n",
        "\n",
        "\n",
        "\n",
        "lstm = tf.keras.Sequential([\n",
        "    tf.keras.layers.Embedding(encoder.vocab_size, 64),\n",
        "    tf.keras.layers.Bidirectional(tf.keras.layers.LSTM(64,  return_sequences=True)),\n",
        "    tf.keras.layers.Bidirectional(tf.keras.layers.LSTM(32)),\n",
        "    tf.keras.layers.Dense(64, activation='relu'),\n",
        "    tf.keras.layers.Dropout(0.5),\n",
        "    tf.keras.layers.Dense(1)\n",
        "])\n",
        "\n",
        "lstm.compile(loss=tf.keras.losses.BinaryCrossentropy(from_logits=True),\n",
        "              optimizer=tf.keras.optimizers.Adam(1e-4),\n",
        "              metrics=['accuracy'])\n",
        "\n",
        "\n",
        "# Change epochs to 10 to reduce overfitting\n",
        "\n",
        "history = lstm.fit(train_dataset, epochs=10,\n",
        "                    validation_data=test_dataset,\n",
        "                    validation_steps=30)\n",
        "\n",
        "test_loss, test_acc = lstm.evaluate(test_dataset)\n",
        "\n",
        "print('Test Loss: {}'.format(test_loss))\n",
        "print('Test Accuracy: {}'.format(test_acc))\n",
        "\n",
        "# predict on a sample text without padding.\n",
        "\n",
        "sample_pred_text = ('The movie was not good. The animation and the graphics were terrible. I would not recommend this movie.')\n",
        "predictions = sample_predict(sample_pred_text, pad=False, model = lstm)\n",
        "print(predictions)\n",
        "\n",
        "# predict on a sample text with padding\n",
        "\n",
        "sample_pred_text = ('The movie was not good. The animation and the graphics were terrible. I would not recommend this movie.')\n",
        "predictions = sample_predict(sample_pred_text, pad=True, model = lstm)\n",
        "print(predictions)\n",
        "\n",
        "plot_graphs(history, 'accuracy')\n",
        "plot_graphs(history, 'loss')\n",
        "\n",
        "\n"
      ],
      "execution_count": 12,
      "outputs": [
        {
          "output_type": "stream",
          "text": [
            "WARNING:absl:TFDS datasets with text encoding are deprecated and will be removed in a future version. Instead, you should use the plain text version and tokenize the text using `tensorflow_text` (See: https://www.tensorflow.org/tutorials/tensorflow_text/intro#tfdata_example)\n"
          ],
          "name": "stderr"
        },
        {
          "output_type": "stream",
          "text": [
            "Vocabulary size: 8185\n",
            "Encoded string is [4025, 222, 6307, 2327, 4043, 2120, 7975]\n",
            "The original string: \"Hello TensorFlow.\"\n",
            "4025 ----> Hell\n",
            "222 ----> o \n",
            "6307 ----> Ten\n",
            "2327 ----> sor\n",
            "4043 ----> Fl\n",
            "2120 ----> ow\n",
            "7975 ----> .\n",
            "Epoch 1/10\n",
            "391/391 [==============================] - 91s 221ms/step - loss: 0.6887 - accuracy: 0.5050 - val_loss: 0.4678 - val_accuracy: 0.7812\n",
            "Epoch 2/10\n",
            "391/391 [==============================] - 85s 217ms/step - loss: 0.4267 - accuracy: 0.8163 - val_loss: 0.3606 - val_accuracy: 0.8594\n",
            "Epoch 3/10\n",
            "391/391 [==============================] - 86s 219ms/step - loss: 0.2861 - accuracy: 0.8938 - val_loss: 0.3465 - val_accuracy: 0.8745\n",
            "Epoch 4/10\n",
            "391/391 [==============================] - 85s 218ms/step - loss: 0.2270 - accuracy: 0.9223 - val_loss: 0.3500 - val_accuracy: 0.8557\n",
            "Epoch 5/10\n",
            "391/391 [==============================] - 86s 219ms/step - loss: 0.1950 - accuracy: 0.9357 - val_loss: 0.4152 - val_accuracy: 0.8490\n",
            "Epoch 6/10\n",
            "391/391 [==============================] - 85s 217ms/step - loss: 0.1764 - accuracy: 0.9444 - val_loss: 0.4153 - val_accuracy: 0.8651\n",
            "Epoch 7/10\n",
            "391/391 [==============================] - 85s 216ms/step - loss: 0.1532 - accuracy: 0.9559 - val_loss: 0.4793 - val_accuracy: 0.8495\n",
            "Epoch 8/10\n",
            "391/391 [==============================] - 85s 217ms/step - loss: 0.1436 - accuracy: 0.9557 - val_loss: 0.4696 - val_accuracy: 0.8557\n",
            "Epoch 9/10\n",
            "391/391 [==============================] - 85s 217ms/step - loss: 0.1291 - accuracy: 0.9625 - val_loss: 0.4919 - val_accuracy: 0.8469\n",
            "Epoch 10/10\n",
            "391/391 [==============================] - 85s 217ms/step - loss: 0.1098 - accuracy: 0.9725 - val_loss: 0.4935 - val_accuracy: 0.8495\n",
            "391/391 [==============================] - 36s 93ms/step - loss: 0.4803 - accuracy: 0.8538\n",
            "Test Loss: 0.48025864362716675\n",
            "Test Accuracy: 0.8538399934768677\n",
            "[[-2.9235556]]\n",
            "WARNING:tensorflow:5 out of the last 6 calls to <function Model.make_predict_function.<locals>.predict_function at 0x7fdec85a39e0> triggered tf.function retracing. Tracing is expensive and the excessive number of tracings could be due to (1) creating @tf.function repeatedly in a loop, (2) passing tensors with different shapes, (3) passing Python objects instead of tensors. For (1), please define your @tf.function outside of the loop. For (2), @tf.function has experimental_relax_shapes=True option that relaxes argument shapes that can avoid unnecessary retracing. For (3), please refer to https://www.tensorflow.org/guide/function#controlling_retracing and https://www.tensorflow.org/api_docs/python/tf/function for  more details.\n"
          ],
          "name": "stdout"
        },
        {
          "output_type": "stream",
          "text": [
            "WARNING:tensorflow:5 out of the last 6 calls to <function Model.make_predict_function.<locals>.predict_function at 0x7fdec85a39e0> triggered tf.function retracing. Tracing is expensive and the excessive number of tracings could be due to (1) creating @tf.function repeatedly in a loop, (2) passing tensors with different shapes, (3) passing Python objects instead of tensors. For (1), please define your @tf.function outside of the loop. For (2), @tf.function has experimental_relax_shapes=True option that relaxes argument shapes that can avoid unnecessary retracing. For (3), please refer to https://www.tensorflow.org/guide/function#controlling_retracing and https://www.tensorflow.org/api_docs/python/tf/function for  more details.\n"
          ],
          "name": "stderr"
        },
        {
          "output_type": "stream",
          "text": [
            "[[-3.759153]]\n"
          ],
          "name": "stdout"
        },
        {
          "output_type": "display_data",
          "data": {
            "image/png": "[encoded data removed]",
            "text/plain": [
              "<Figure size 432x288 with 1 Axes>"
            ]
          },
          "metadata": {
            "tags": [],
            "needs_background": "light"
          }
        },
        {
          "output_type": "display_data",
          "data": {
            "image/png": "[encoded data removed]",
            "text/plain": [
              "<Figure size 432x288 with 1 Axes>"
            ]
          },
          "metadata": {
            "tags": [],
            "needs_background": "light"
          }
        }
      ]
    },
    {
      "cell_type": "markdown",
      "metadata": {
        "id": "VxyeNzBvkLZu"
      },
      "source": [
        "## Example"
      ]
    },
    {
      "cell_type": "code",
      "metadata": {
        "colab": {
          "base_uri": "https://localhost:8080/"
        },
        "id": "R2tFAtXP-xij",
        "outputId": "764d825a-42bf-4500-b13b-93efeaad7b8d"
      },
      "source": [
        "new_prediction = sample_predict(\"Apple Stock Is Falling Again. Why That’s Not a Problem for the Dow.\", pad=True, model = lstm)\n",
        "print(new_prediction)\n",
        "\n",
        "new_prediction = sample_predict(\"Apple Stock Is Falling Again. Why That’s Not a Problem for the Dow.\", pad=False, model = lstm)\n",
        "print(new_prediction)\n"
      ],
      "execution_count": 13,
      "outputs": [
        {
          "output_type": "stream",
          "text": [
            "[[-0.310727]]\n",
            "WARNING:tensorflow:6 out of the last 8 calls to <function Model.make_predict_function.<locals>.predict_function at 0x7fdec85a39e0> triggered tf.function retracing. Tracing is expensive and the excessive number of tracings could be due to (1) creating @tf.function repeatedly in a loop, (2) passing tensors with different shapes, (3) passing Python objects instead of tensors. For (1), please define your @tf.function outside of the loop. For (2), @tf.function has experimental_relax_shapes=True option that relaxes argument shapes that can avoid unnecessary retracing. For (3), please refer to https://www.tensorflow.org/guide/function#controlling_retracing and https://www.tensorflow.org/api_docs/python/tf/function for  more details.\n"
          ],
          "name": "stdout"
        },
        {
          "output_type": "stream",
          "text": [
            "WARNING:tensorflow:6 out of the last 8 calls to <function Model.make_predict_function.<locals>.predict_function at 0x7fdec85a39e0> triggered tf.function retracing. Tracing is expensive and the excessive number of tracings could be due to (1) creating @tf.function repeatedly in a loop, (2) passing tensors with different shapes, (3) passing Python objects instead of tensors. For (1), please define your @tf.function outside of the loop. For (2), @tf.function has experimental_relax_shapes=True option that relaxes argument shapes that can avoid unnecessary retracing. For (3), please refer to https://www.tensorflow.org/guide/function#controlling_retracing and https://www.tensorflow.org/api_docs/python/tf/function for  more details.\n"
          ],
          "name": "stderr"
        },
        {
          "output_type": "stream",
          "text": [
            "[[-0.48384848]]\n"
          ],
          "name": "stdout"
        }
      ]
    },
    {
      "cell_type": "markdown",
      "metadata": {
        "id": "5SZ63yLI_8Zs"
      },
      "source": [
        "## Save model"
      ]
    },
    {
      "cell_type": "code",
      "metadata": {
        "id": "yW54hf9eJDOP"
      },
      "source": [
        "def sample_predict(sample_pred_text, encoder, pad, model):\n",
        "    encoded_sample_pred_text = encoder.encode(sample_pred_text)\n",
        "\n",
        "    if pad:\n",
        "        encoded_sample_pred_text = pad_to_size(encoded_sample_pred_text, 64)\n",
        "    encoded_sample_pred_text = tf.cast(encoded_sample_pred_text, tf.float32)\n",
        "    predictions = model.predict(tf.expand_dims(encoded_sample_pred_text, 0))\n",
        "\n",
        "    return (predictions)"
      ],
      "execution_count": 14,
      "outputs": []
    },
    {
      "cell_type": "code",
      "metadata": {
        "id": "XPYsEd8uI3Sa"
      },
      "source": [
        "!mkdir -p saved_model\n",
        "pickle.dump(encoder, open(\"saved_model/lstm_encoder.pickel\", \"wb\"))\n",
        "\n",
        "# load pickle\n",
        "encoder_loaded = pickle.load(open(\"saved_model/lstm_encoder.pickel\", \"rb\"))\n"
      ],
      "execution_count": 15,
      "outputs": []
    },
    {
      "cell_type": "code",
      "metadata": {
        "colab": {
          "base_uri": "https://localhost:8080/"
        },
        "id": "SngqKlGZ_-0V",
        "outputId": "1fc11bd9-30f6-4c69-e408-2ae770b7d578"
      },
      "source": [
        "lstm.save('saved_model/lstm')\n",
        "\n",
        "lstm_loaded = tf.keras.models.load_model('saved_model/lstm')\n",
        "\n",
        "# Check its architecture\n",
        "lstm_loaded.summary()\n"
      ],
      "execution_count": 16,
      "outputs": [
        {
          "output_type": "stream",
          "text": [
            "WARNING:absl:Found untraced functions such as lstm_cell_7_layer_call_fn, lstm_cell_7_layer_call_and_return_conditional_losses, lstm_cell_8_layer_call_fn, lstm_cell_8_layer_call_and_return_conditional_losses, lstm_cell_10_layer_call_fn while saving (showing 5 of 20). These functions will not be directly callable after loading.\n",
            "WARNING:absl:Found untraced functions such as lstm_cell_7_layer_call_fn, lstm_cell_7_layer_call_and_return_conditional_losses, lstm_cell_8_layer_call_fn, lstm_cell_8_layer_call_and_return_conditional_losses, lstm_cell_10_layer_call_fn while saving (showing 5 of 20). These functions will not be directly callable after loading.\n"
          ],
          "name": "stderr"
        },
        {
          "output_type": "stream",
          "text": [
            "INFO:tensorflow:Assets written to: saved_model/lstm/assets\n"
          ],
          "name": "stdout"
        },
        {
          "output_type": "stream",
          "text": [
            "INFO:tensorflow:Assets written to: saved_model/lstm/assets\n"
          ],
          "name": "stderr"
        },
        {
          "output_type": "stream",
          "text": [
            "Model: \"sequential_1\"\n",
            "_________________________________________________________________\n",
            "Layer (type)                 Output Shape              Param #   \n",
            "=================================================================\n",
            "embedding_1 (Embedding)      (None, None, 64)          523840    \n",
            "_________________________________________________________________\n",
            "bidirectional_2 (Bidirection (None, None, 128)         66048     \n",
            "_________________________________________________________________\n",
            "bidirectional_3 (Bidirection (None, 64)                41216     \n",
            "_________________________________________________________________\n",
            "dense_2 (Dense)              (None, 64)                4160      \n",
            "_________________________________________________________________\n",
            "dropout_1 (Dropout)          (None, 64)                0         \n",
            "_________________________________________________________________\n",
            "dense_3 (Dense)              (None, 1)                 65        \n",
            "=================================================================\n",
            "Total params: 635,329\n",
            "Trainable params: 635,329\n",
            "Non-trainable params: 0\n",
            "_________________________________________________________________\n"
          ],
          "name": "stdout"
        }
      ]
    },
    {
      "cell_type": "code",
      "metadata": {
        "colab": {
          "base_uri": "https://localhost:8080/"
        },
        "id": "Eo_5jdLrCEbY",
        "outputId": "32671176-b06c-4f12-a1c8-036ea91d6e06"
      },
      "source": [
        "new_prediction = sample_predict(\"Apple Stock Is Falling Again. Why That’s Not a Problem for the Dow.\", encoder = encoder_loaded, pad=False, model = lstm_loaded)\n",
        "print(new_prediction)"
      ],
      "execution_count": 17,
      "outputs": [
        {
          "output_type": "stream",
          "text": [
            "WARNING:tensorflow:7 out of the last 9 calls to <function Model.make_predict_function.<locals>.predict_function at 0x7fdec68ecf80> triggered tf.function retracing. Tracing is expensive and the excessive number of tracings could be due to (1) creating @tf.function repeatedly in a loop, (2) passing tensors with different shapes, (3) passing Python objects instead of tensors. For (1), please define your @tf.function outside of the loop. For (2), @tf.function has experimental_relax_shapes=True option that relaxes argument shapes that can avoid unnecessary retracing. For (3), please refer to https://www.tensorflow.org/guide/function#controlling_retracing and https://www.tensorflow.org/api_docs/python/tf/function for  more details.\n"
          ],
          "name": "stdout"
        },
        {
          "output_type": "stream",
          "text": [
            "WARNING:tensorflow:7 out of the last 9 calls to <function Model.make_predict_function.<locals>.predict_function at 0x7fdec68ecf80> triggered tf.function retracing. Tracing is expensive and the excessive number of tracings could be due to (1) creating @tf.function repeatedly in a loop, (2) passing tensors with different shapes, (3) passing Python objects instead of tensors. For (1), please define your @tf.function outside of the loop. For (2), @tf.function has experimental_relax_shapes=True option that relaxes argument shapes that can avoid unnecessary retracing. For (3), please refer to https://www.tensorflow.org/guide/function#controlling_retracing and https://www.tensorflow.org/api_docs/python/tf/function for  more details.\n"
          ],
          "name": "stderr"
        },
        {
          "output_type": "stream",
          "text": [
            "[[-0.48384848]]\n"
          ],
          "name": "stdout"
        }
      ]
    },
    {
      "cell_type": "markdown",
      "metadata": {
        "id": "jAhNTcRm-yGM"
      },
      "source": [
        "# 3. Building a Neural Network and train on IMDB Dataset"
      ]
    },
    {
      "cell_type": "code",
      "metadata": {
        "id": "EBFM1dbFA3x_"
      },
      "source": [
        "def vectorize(sequences, dimension=10000):\n",
        "    results = np.zeros((len(sequences), dimension))\n",
        "    for i, sequence in enumerate(sequences):\n",
        "        results[i, sequence] = 1.\n",
        "    return results\n",
        "  \n",
        "def plot_graphs(history, metric):\n",
        "    plt.plot(history.history[metric])\n",
        "    plt.plot(history.history['val_'+metric], '')\n",
        "    plt.xlabel(\"Epochs\")\n",
        "    plt.ylabel(metric)\n",
        "    plt.legend([metric, 'val_'+metric])\n",
        "    plt.show()"
      ],
      "execution_count": 18,
      "outputs": []
    },
    {
      "cell_type": "code",
      "metadata": {
        "colab": {
          "base_uri": "https://localhost:8080/",
          "height": 1000
        },
        "id": "vU2145sxA4Nn",
        "outputId": "fcc24355-df7a-4e71-e97f-05cec6569db1"
      },
      "source": [
        "(training_data, training_label), (test_data, test_label) = imdb.load_data(num_words=10000, index_from=3)\n",
        "\n",
        "data = np.concatenate((training_data, test_data), axis=0)\n",
        "targets = np.concatenate((training_label, test_label), axis=0)\n",
        "data = vectorize(data)\n",
        "targets = np.array(targets).astype(\"float32\")\n",
        "x_test = data[:10000]\n",
        "test_label = targets[:10000]\n",
        "x_train = data[10000:]\n",
        "training_label = targets[10000:]\n",
        "\n",
        "print(\"x_train \", x_train.shape)\n",
        "print(\"x_test \", x_test.shape)\n",
        "\n",
        "NN = models.Sequential()\n",
        "NN.add(layers.Dense(50,activation = \"relu\", input_shape=(10000, )))\n",
        "NN.add(layers.Dropout(0.5))\n",
        "NN.add(layers.Dense(50, activation = \"relu\"))\n",
        "NN.add(layers.Dropout(0.5))\n",
        "NN.add(layers.Dense(50, activation = \"relu\"))\n",
        "NN.add(layers.Dense(16, activation='relu'))\n",
        "NN.add(layers.Dropout(0.5))\n",
        "NN.add(layers.Dense(1, activation = \"sigmoid\"))\n",
        "NN.summary()\n",
        "\n",
        "NN.compile(\n",
        " optimizer = \"adam\",\n",
        " loss = \"binary_crossentropy\",\n",
        " metrics = [\"accuracy\"]\n",
        ")\n",
        "\n",
        "history = NN.fit(x_train, training_label, epochs=20, batch_size=512, validation_data=(x_test,test_label))\n",
        "\n",
        "test_loss, test_acc = NN.evaluate(x_test, test_label)\n",
        "\n",
        "print('Test Loss: {}'.format(test_loss))\n",
        "print('Test Accuracy: {}'.format(test_acc))\n",
        "\n",
        "plot_graphs(history, 'accuracy')\n",
        "plot_graphs(history, 'loss')"
      ],
      "execution_count": 19,
      "outputs": [
        {
          "output_type": "stream",
          "text": [
            "Downloading data from https://storage.googleapis.com/tensorflow/tf-keras-datasets/imdb.npz\n",
            "17465344/17464789 [==============================] - 0s 0us/step\n"
          ],
          "name": "stdout"
        },
        {
          "output_type": "stream",
          "text": [
            "<string>:6: VisibleDeprecationWarning: Creating an ndarray from ragged nested sequences (which is a list-or-tuple of lists-or-tuples-or ndarrays with different lengths or shapes) is deprecated. If you meant to do this, you must specify 'dtype=object' when creating the ndarray\n",
            "/usr/local/lib/python3.7/dist-packages/tensorflow/python/keras/datasets/imdb.py:159: VisibleDeprecationWarning: Creating an ndarray from ragged nested sequences (which is a list-or-tuple of lists-or-tuples-or ndarrays with different lengths or shapes) is deprecated. If you meant to do this, you must specify 'dtype=object' when creating the ndarray\n",
            "  x_train, y_train = np.array(xs[:idx]), np.array(labels[:idx])\n",
            "/usr/local/lib/python3.7/dist-packages/tensorflow/python/keras/datasets/imdb.py:160: VisibleDeprecationWarning: Creating an ndarray from ragged nested sequences (which is a list-or-tuple of lists-or-tuples-or ndarrays with different lengths or shapes) is deprecated. If you meant to do this, you must specify 'dtype=object' when creating the ndarray\n",
            "  x_test, y_test = np.array(xs[idx:]), np.array(labels[idx:])\n"
          ],
          "name": "stderr"
        },
        {
          "output_type": "stream",
          "text": [
            "x_train  (40000, 10000)\n",
            "x_test  (10000, 10000)\n",
            "Model: \"sequential_2\"\n",
            "_________________________________________________________________\n",
            "Layer (type)                 Output Shape              Param #   \n",
            "=================================================================\n",
            "dense_4 (Dense)              (None, 50)                500050    \n",
            "_________________________________________________________________\n",
            "dropout_2 (Dropout)          (None, 50)                0         \n",
            "_________________________________________________________________\n",
            "dense_5 (Dense)              (None, 50)                2550      \n",
            "_________________________________________________________________\n",
            "dropout_3 (Dropout)          (None, 50)                0         \n",
            "_________________________________________________________________\n",
            "dense_6 (Dense)              (None, 50)                2550      \n",
            "_________________________________________________________________\n",
            "dense_7 (Dense)              (None, 16)                816       \n",
            "_________________________________________________________________\n",
            "dropout_4 (Dropout)          (None, 16)                0         \n",
            "_________________________________________________________________\n",
            "dense_8 (Dense)              (None, 1)                 17        \n",
            "=================================================================\n",
            "Total params: 505,983\n",
            "Trainable params: 505,983\n",
            "Non-trainable params: 0\n",
            "_________________________________________________________________\n",
            "Epoch 1/20\n",
            "79/79 [==============================] - 2s 24ms/step - loss: 0.6309 - accuracy: 0.6157 - val_loss: 0.2818 - val_accuracy: 0.8840\n",
            "Epoch 2/20\n",
            "79/79 [==============================] - 1s 16ms/step - loss: 0.3161 - accuracy: 0.8861 - val_loss: 0.2601 - val_accuracy: 0.8930\n",
            "Epoch 3/20\n",
            "79/79 [==============================] - 1s 16ms/step - loss: 0.2441 - accuracy: 0.9133 - val_loss: 0.2660 - val_accuracy: 0.8962\n",
            "Epoch 4/20\n",
            "79/79 [==============================] - 1s 16ms/step - loss: 0.2001 - accuracy: 0.9312 - val_loss: 0.2861 - val_accuracy: 0.8913\n",
            "Epoch 5/20\n",
            "79/79 [==============================] - 1s 16ms/step - loss: 0.1718 - accuracy: 0.9427 - val_loss: 0.2959 - val_accuracy: 0.8886\n",
            "Epoch 6/20\n",
            "79/79 [==============================] - 1s 16ms/step - loss: 0.1502 - accuracy: 0.9490 - val_loss: 0.3209 - val_accuracy: 0.8892\n",
            "Epoch 7/20\n",
            "79/79 [==============================] - 1s 16ms/step - loss: 0.1389 - accuracy: 0.9509 - val_loss: 0.3474 - val_accuracy: 0.8900\n",
            "Epoch 8/20\n",
            "79/79 [==============================] - 1s 16ms/step - loss: 0.1231 - accuracy: 0.9557 - val_loss: 0.3755 - val_accuracy: 0.8873\n",
            "Epoch 9/20\n",
            "79/79 [==============================] - 1s 16ms/step - loss: 0.1138 - accuracy: 0.9596 - val_loss: 0.4059 - val_accuracy: 0.8872\n",
            "Epoch 10/20\n",
            "79/79 [==============================] - 1s 16ms/step - loss: 0.1024 - accuracy: 0.9612 - val_loss: 0.4329 - val_accuracy: 0.8865\n",
            "Epoch 11/20\n",
            "79/79 [==============================] - 1s 16ms/step - loss: 0.1014 - accuracy: 0.9618 - val_loss: 0.4604 - val_accuracy: 0.8873\n",
            "Epoch 12/20\n",
            "79/79 [==============================] - 1s 16ms/step - loss: 0.0894 - accuracy: 0.9665 - val_loss: 0.4923 - val_accuracy: 0.8855\n",
            "Epoch 13/20\n",
            "79/79 [==============================] - 1s 16ms/step - loss: 0.0847 - accuracy: 0.9668 - val_loss: 0.4891 - val_accuracy: 0.8845\n",
            "Epoch 14/20\n",
            "79/79 [==============================] - 1s 16ms/step - loss: 0.0822 - accuracy: 0.9684 - val_loss: 0.5203 - val_accuracy: 0.8856\n",
            "Epoch 15/20\n",
            "79/79 [==============================] - 1s 16ms/step - loss: 0.0789 - accuracy: 0.9687 - val_loss: 0.5534 - val_accuracy: 0.8848\n",
            "Epoch 16/20\n",
            "79/79 [==============================] - 1s 16ms/step - loss: 0.0801 - accuracy: 0.9681 - val_loss: 0.6283 - val_accuracy: 0.8857\n",
            "Epoch 17/20\n",
            "79/79 [==============================] - 1s 16ms/step - loss: 0.0673 - accuracy: 0.9721 - val_loss: 0.5759 - val_accuracy: 0.8855\n",
            "Epoch 18/20\n",
            "79/79 [==============================] - 1s 16ms/step - loss: 0.0784 - accuracy: 0.9689 - val_loss: 0.6202 - val_accuracy: 0.8858\n",
            "Epoch 19/20\n",
            "79/79 [==============================] - 1s 16ms/step - loss: 0.0651 - accuracy: 0.9724 - val_loss: 0.6690 - val_accuracy: 0.8851\n",
            "Epoch 20/20\n",
            "79/79 [==============================] - 1s 16ms/step - loss: 0.0694 - accuracy: 0.9722 - val_loss: 0.6377 - val_accuracy: 0.8865\n",
            "313/313 [==============================] - 1s 3ms/step - loss: 0.6377 - accuracy: 0.8865\n",
            "Test Loss: 0.6377005577087402\n",
            "Test Accuracy: 0.8865000009536743\n"
          ],
          "name": "stdout"
        },
        {
          "output_type": "display_data",
          "data": {
            "image/png": "[encoded data removed]",
            "text/plain": [
              "<Figure size 432x288 with 1 Axes>"
            ]
          },
          "metadata": {
            "tags": [],
            "needs_background": "light"
          }
        },
        {
          "output_type": "display_data",
          "data": {
            "image/png": "[encoded data removed]",
            "text/plain": [
              "<Figure size 432x288 with 1 Axes>"
            ]
          },
          "metadata": {
            "tags": [],
            "needs_background": "light"
          }
        }
      ]
    },
    {
      "cell_type": "markdown",
      "metadata": {
        "id": "ZlWR0U_GlaiV"
      },
      "source": [
        "## Text preprocessing"
      ]
    },
    {
      "cell_type": "code",
      "metadata": {
        "id": "8bZUtKGwwPUy"
      },
      "source": [
        "TOP_WORDS = 10000\n",
        "stop_words = set(stopwords.words(\"english\"))\n",
        "ps = PorterStemmer()"
      ],
      "execution_count": 20,
      "outputs": []
    },
    {
      "cell_type": "code",
      "metadata": {
        "id": "BOlqRujwmGQC",
        "colab": {
          "base_uri": "https://localhost:8080/"
        },
        "outputId": "a42f53d1-4142-4297-c6f0-27ec3bb32d95"
      },
      "source": [
        "word2index = imdb.get_word_index()\n",
        "word2index = {k:(v+3) for k,v in word2index.items()}\n",
        "\n",
        "import string\n",
        "# preprocessing\n",
        "def clean_symbols(text):\n",
        "    \n",
        "    for char in text:\n",
        "        # remove punctuation but preserve symbols defined above \n",
        "        if char in string.punctuation and char != ' ':\n",
        "            text = text.replace(char, '')\n",
        "        # remove all other characters\n",
        "        if char.isalpha() is False and char.isdigit() is False and char != ' ':\n",
        "            text = text.replace(char, '')\n",
        "          \n",
        "    return ' '.join(text.split())\n",
        "\n",
        "def clean_words(news, dimension = TOP_WORDS):\n",
        "  cleaned = clean_symbols(news).lower()\n",
        "  test=[]\n",
        "  for word in word_tokenize(cleaned):\n",
        "    if word in word2index:\n",
        "      test.append(word2index[word])\n",
        "    \n",
        "  results = np.zeros(dimension)\n",
        "  for _ , sequence in enumerate(test):\n",
        "    if sequence < dimension:\n",
        "      results[sequence] = 1\n",
        "\n",
        "  results = np.reshape(results,(1, TOP_WORDS))\n",
        "\n",
        "  return results"
      ],
      "execution_count": 21,
      "outputs": [
        {
          "output_type": "stream",
          "text": [
            "Downloading data from https://storage.googleapis.com/tensorflow/tf-keras-datasets/imdb_word_index.json\n",
            "1646592/1641221 [==============================] - 0s 0us/step\n"
          ],
          "name": "stdout"
        }
      ]
    },
    {
      "cell_type": "markdown",
      "metadata": {
        "id": "Q4mMSZhB8xWL"
      },
      "source": [
        "## Example"
      ]
    },
    {
      "cell_type": "code",
      "metadata": {
        "id": "katLeK59lcyL"
      },
      "source": [
        "\n",
        "\n",
        "example_1 = \"The movie was not good. The animation and the graphics were terrible. I would not recommend this movie.\"\n",
        "example_2 = \"it is so good\"\n",
        "example_3 = \"Apple Stock Is Falling Again. Why That’s Not a Problem for the Dow.\"\n",
        "def predict_sentiment(x_test, NN):\n",
        "\n",
        "  x_test = clean_words(x_test, dimension = TOP_WORDS)\n",
        "  prediction = NN.predict(x_test) \n",
        "  return prediction"
      ],
      "execution_count": 22,
      "outputs": []
    },
    {
      "cell_type": "code",
      "metadata": {
        "id": "MqLRb0XonyFY",
        "colab": {
          "base_uri": "https://localhost:8080/"
        },
        "outputId": "cdc0856b-147b-41aa-9bca-c830040011fe"
      },
      "source": [
        "\n",
        "predict_sentiment(example_3, NN)\n",
        "predict_sentiment(\"it is good and let's have a try\", NN)"
      ],
      "execution_count": 23,
      "outputs": [
        {
          "output_type": "stream",
          "text": [
            "WARNING:tensorflow:8 out of the last 10 calls to <function Model.make_predict_function.<locals>.predict_function at 0x7fdecac66680> triggered tf.function retracing. Tracing is expensive and the excessive number of tracings could be due to (1) creating @tf.function repeatedly in a loop, (2) passing tensors with different shapes, (3) passing Python objects instead of tensors. For (1), please define your @tf.function outside of the loop. For (2), @tf.function has experimental_relax_shapes=True option that relaxes argument shapes that can avoid unnecessary retracing. For (3), please refer to https://www.tensorflow.org/guide/function#controlling_retracing and https://www.tensorflow.org/api_docs/python/tf/function for  more details.\n"
          ],
          "name": "stdout"
        },
        {
          "output_type": "stream",
          "text": [
            "WARNING:tensorflow:8 out of the last 10 calls to <function Model.make_predict_function.<locals>.predict_function at 0x7fdecac66680> triggered tf.function retracing. Tracing is expensive and the excessive number of tracings could be due to (1) creating @tf.function repeatedly in a loop, (2) passing tensors with different shapes, (3) passing Python objects instead of tensors. For (1), please define your @tf.function outside of the loop. For (2), @tf.function has experimental_relax_shapes=True option that relaxes argument shapes that can avoid unnecessary retracing. For (3), please refer to https://www.tensorflow.org/guide/function#controlling_retracing and https://www.tensorflow.org/api_docs/python/tf/function for  more details.\n"
          ],
          "name": "stderr"
        },
        {
          "output_type": "execute_result",
          "data": {
            "text/plain": [
              "array([[0.9595045]], dtype=float32)"
            ]
          },
          "metadata": {
            "tags": []
          },
          "execution_count": 23
        }
      ]
    },
    {
      "cell_type": "markdown",
      "metadata": {
        "id": "Tf41-ZB0Cgqc"
      },
      "source": [
        "## Save the model"
      ]
    },
    {
      "cell_type": "code",
      "metadata": {
        "colab": {
          "base_uri": "https://localhost:8080/"
        },
        "id": "0JZB9LESCgBG",
        "outputId": "05658f26-bf88-4324-8c0c-138d5d4283b9"
      },
      "source": [
        "!mkdir -p saved_model\n",
        "NN.save('saved_model/nn')\n",
        "\n",
        "NN_loaded = tf.keras.models.load_model('saved_model/nn')\n",
        "\n",
        "NN_loaded.summary()\n",
        "\n",
        "predict_sentiment(\"it is good and let's have a try\", NN_loaded)"
      ],
      "execution_count": 24,
      "outputs": [
        {
          "output_type": "stream",
          "text": [
            "INFO:tensorflow:Assets written to: saved_model/nn/assets\n"
          ],
          "name": "stdout"
        },
        {
          "output_type": "stream",
          "text": [
            "INFO:tensorflow:Assets written to: saved_model/nn/assets\n"
          ],
          "name": "stderr"
        },
        {
          "output_type": "stream",
          "text": [
            "Model: \"sequential_2\"\n",
            "_________________________________________________________________\n",
            "Layer (type)                 Output Shape              Param #   \n",
            "=================================================================\n",
            "dense_4 (Dense)              (None, 50)                500050    \n",
            "_________________________________________________________________\n",
            "dropout_2 (Dropout)          (None, 50)                0         \n",
            "_________________________________________________________________\n",
            "dense_5 (Dense)              (None, 50)                2550      \n",
            "_________________________________________________________________\n",
            "dropout_3 (Dropout)          (None, 50)                0         \n",
            "_________________________________________________________________\n",
            "dense_6 (Dense)              (None, 50)                2550      \n",
            "_________________________________________________________________\n",
            "dense_7 (Dense)              (None, 16)                816       \n",
            "_________________________________________________________________\n",
            "dropout_4 (Dropout)          (None, 16)                0         \n",
            "_________________________________________________________________\n",
            "dense_8 (Dense)              (None, 1)                 17        \n",
            "=================================================================\n",
            "Total params: 505,983\n",
            "Trainable params: 505,983\n",
            "Non-trainable params: 0\n",
            "_________________________________________________________________\n",
            "WARNING:tensorflow:8 out of the last 11 calls to <function Model.make_predict_function.<locals>.predict_function at 0x7fdec2a687a0> triggered tf.function retracing. Tracing is expensive and the excessive number of tracings could be due to (1) creating @tf.function repeatedly in a loop, (2) passing tensors with different shapes, (3) passing Python objects instead of tensors. For (1), please define your @tf.function outside of the loop. For (2), @tf.function has experimental_relax_shapes=True option that relaxes argument shapes that can avoid unnecessary retracing. For (3), please refer to https://www.tensorflow.org/guide/function#controlling_retracing and https://www.tensorflow.org/api_docs/python/tf/function for  more details.\n"
          ],
          "name": "stdout"
        },
        {
          "output_type": "stream",
          "text": [
            "WARNING:tensorflow:8 out of the last 11 calls to <function Model.make_predict_function.<locals>.predict_function at 0x7fdec2a687a0> triggered tf.function retracing. Tracing is expensive and the excessive number of tracings could be due to (1) creating @tf.function repeatedly in a loop, (2) passing tensors with different shapes, (3) passing Python objects instead of tensors. For (1), please define your @tf.function outside of the loop. For (2), @tf.function has experimental_relax_shapes=True option that relaxes argument shapes that can avoid unnecessary retracing. For (3), please refer to https://www.tensorflow.org/guide/function#controlling_retracing and https://www.tensorflow.org/api_docs/python/tf/function for  more details.\n"
          ],
          "name": "stderr"
        },
        {
          "output_type": "execute_result",
          "data": {
            "text/plain": [
              "array([[0.9595045]], dtype=float32)"
            ]
          },
          "metadata": {
            "tags": []
          },
          "execution_count": 24
        }
      ]
    },
    {
      "cell_type": "markdown",
      "metadata": {
        "id": "qmH-7s4qLm_Z"
      },
      "source": [
        "# 4. Sentiment Analysis based on online dataset\n",
        "# Reference: https://www.kaggle.com/geminikeggler/stock-sentiment-analysis\n",
        "\n",
        "# https://www.kaggle.com/geminikeggler/stock-sentiment-analysis-classification-nlp"
      ]
    },
    {
      "cell_type": "code",
      "metadata": {
        "id": "eccfr8C7Lt50"
      },
      "source": [
        "df= pd.read_csv('Combined_News_DJIA.csv',encoding='ISO-8859-1')\n"
      ],
      "execution_count": 25,
      "outputs": []
    },
    {
      "cell_type": "code",
      "metadata": {
        "colab": {
          "base_uri": "https://localhost:8080/",
          "height": 764
        },
        "id": "sFJMflVcPgdH",
        "outputId": "a1aa7541-713c-4370-f95e-4ea34e3a1211"
      },
      "source": [
        "df.head()\n",
        "df.tail()"
      ],
      "execution_count": 26,
      "outputs": [
        {
          "output_type": "execute_result",
          "data": {
            "text/html": [
              "<div>\n",
              "<style scoped>\n",
              "    .dataframe tbody tr th:only-of-type {\n",
              "        vertical-align: middle;\n",
              "    }\n",
              "\n",
              "    .dataframe tbody tr th {\n",
              "        vertical-align: top;\n",
              "    }\n",
              "\n",
              "    .dataframe thead th {\n",
              "        text-align: right;\n",
              "    }\n",
              "</style>\n",
              "<table border=\"1\" class=\"dataframe\">\n",
              "  <thead>\n",
              "    <tr style=\"text-align: right;\">\n",
              "      <th></th>\n",
              "      <th>Date</th>\n",
              "      <th>Label</th>\n",
              "      <th>Top1</th>\n",
              "      <th>Top2</th>\n",
              "      <th>Top3</th>\n",
              "      <th>Top4</th>\n",
              "      <th>Top5</th>\n",
              "      <th>Top6</th>\n",
              "      <th>Top7</th>\n",
              "      <th>Top8</th>\n",
              "      <th>Top9</th>\n",
              "      <th>Top10</th>\n",
              "      <th>Top11</th>\n",
              "      <th>Top12</th>\n",
              "      <th>Top13</th>\n",
              "      <th>Top14</th>\n",
              "      <th>Top15</th>\n",
              "      <th>Top16</th>\n",
              "      <th>Top17</th>\n",
              "      <th>Top18</th>\n",
              "      <th>Top19</th>\n",
              "      <th>Top20</th>\n",
              "      <th>Top21</th>\n",
              "      <th>Top22</th>\n",
              "      <th>Top23</th>\n",
              "      <th>Top24</th>\n",
              "      <th>Top25</th>\n",
              "    </tr>\n",
              "  </thead>\n",
              "  <tbody>\n",
              "    <tr>\n",
              "      <th>1984</th>\n",
              "      <td>2016-06-27</td>\n",
              "      <td>0</td>\n",
              "      <td>Barclays and RBS shares suspended from trading...</td>\n",
              "      <td>Pope says Church should ask forgiveness from g...</td>\n",
              "      <td>Poland 'shocked' by xenophobic abuse of Poles ...</td>\n",
              "      <td>There will be no second referendum, cabinet ag...</td>\n",
              "      <td>Scotland welcome to join EU, Merkel ally says</td>\n",
              "      <td>Sterling dips below Friday's 31-year low amid ...</td>\n",
              "      <td>No negative news about South African President...</td>\n",
              "      <td>Surge in Hate Crimes in the U.K. Following U.K...</td>\n",
              "      <td>Weapons shipped into Jordan by the CIA and Sau...</td>\n",
              "      <td>Angela Merkel said the U.K. must file exit pap...</td>\n",
              "      <td>In a birth offering hope to a threatened speci...</td>\n",
              "      <td>Sky News Journalist Left Speechless As Leave M...</td>\n",
              "      <td>Giant panda in Macau gives birth to twins</td>\n",
              "      <td>Get out now: EU leader tells Britain it must i...</td>\n",
              "      <td>Sea turtle 'beaten and left for dead' on beach...</td>\n",
              "      <td>German lawyers to probe Erdogan over alleged w...</td>\n",
              "      <td>Boris Johnson says the UK will continue to \"in...</td>\n",
              "      <td>Richard Branson is calling on the UK governmen...</td>\n",
              "      <td>Turkey 'sorry for downing Russian jet'</td>\n",
              "      <td>Edward Snowden lawyer vows new push for pardon...</td>\n",
              "      <td>Brexit opinion poll reveals majority don't wan...</td>\n",
              "      <td>Conservative MP Leave Campaigner: \"The leave c...</td>\n",
              "      <td>Economists predict UK recession, further weake...</td>\n",
              "      <td>New EU 'superstate plan by France, Germany: Cr...</td>\n",
              "      <td>Pakistani clerics declare transgender marriage...</td>\n",
              "    </tr>\n",
              "    <tr>\n",
              "      <th>1985</th>\n",
              "      <td>2016-06-28</td>\n",
              "      <td>1</td>\n",
              "      <td>2,500 Scientists To Australia: If You Want To ...</td>\n",
              "      <td>The personal details of 112,000 French police ...</td>\n",
              "      <td>S&amp;amp;P cuts United Kingdom sovereign credit r...</td>\n",
              "      <td>Huge helium deposit found in Africa</td>\n",
              "      <td>CEO of the South African state broadcaster qui...</td>\n",
              "      <td>Brexit cost investors $2 trillion, the worst o...</td>\n",
              "      <td>Hong Kong democracy activists call for return ...</td>\n",
              "      <td>Brexit: Iceland president says UK can join 'tr...</td>\n",
              "      <td>UK's Osborne: 'Absolutely' going to have to cu...</td>\n",
              "      <td>'Do not let Scotland down now' : Scottish MEP ...</td>\n",
              "      <td>British pound could hit history-making dollar ...</td>\n",
              "      <td>Merkel vows to strengthen EU, tells UK no 'che...</td>\n",
              "      <td>\"Ryanair will not deploy new aircraft on route...</td>\n",
              "      <td>People, ever more greedy and stupid, destroy t...</td>\n",
              "      <td>Siemens freezes new UK wind power investment f...</td>\n",
              "      <td>US, Canada and Mexico pledge 50% of power from...</td>\n",
              "      <td>There is increasing evidence that Australia is...</td>\n",
              "      <td>Richard Branson, the founder of Virgin Group, ...</td>\n",
              "      <td>37,000-yr-old skull from Borneo reveals surpri...</td>\n",
              "      <td>Palestinians stone Western Wall worshipers; po...</td>\n",
              "      <td>Jean-Claude Juncker asks Farage: Why are you h...</td>\n",
              "      <td>\"Romanians for Remainians\" offering a new home...</td>\n",
              "      <td>Brexit: Gibraltar in talks with Scotland to st...</td>\n",
              "      <td>8 Suicide Bombers Strike Lebanon</td>\n",
              "      <td>Mexico's security forces routinely use 'sexual...</td>\n",
              "    </tr>\n",
              "    <tr>\n",
              "      <th>1986</th>\n",
              "      <td>2016-06-29</td>\n",
              "      <td>1</td>\n",
              "      <td>Explosion At Airport In Istanbul</td>\n",
              "      <td>Yemeni former president: Terrorism is the offs...</td>\n",
              "      <td>UK must accept freedom of movement to access E...</td>\n",
              "      <td>Devastated: scientists too late to captive bre...</td>\n",
              "      <td>British Labor Party leader Jeremy Corbyn loses...</td>\n",
              "      <td>A Muslim Shop in the UK Was Just Firebombed Wh...</td>\n",
              "      <td>Mexican Authorities Sexually Torture Women in ...</td>\n",
              "      <td>UK shares and pound continue to recover</td>\n",
              "      <td>Iceland historian Johannesson wins presidentia...</td>\n",
              "      <td>99-Million-Yr-Old Bird Wings Found Encased in ...</td>\n",
              "      <td>A chatbot programmed by a British teenager has...</td>\n",
              "      <td>The Philippine president-elect said Monday he ...</td>\n",
              "      <td>Former Belgian Prime Minister ridicules Nigel ...</td>\n",
              "      <td>Brexiteer Nigel Farage To EU: 'You're Not Laug...</td>\n",
              "      <td>Islamic State bombings in southern Yemen kill ...</td>\n",
              "      <td>Escape Tunnel, Dug by Hand, Is Found at Holoca...</td>\n",
              "      <td>The land under Beijing is sinking by as much a...</td>\n",
              "      <td>Car bomb and Anti-Islamic attack on Mosque in ...</td>\n",
              "      <td>Emaciated lions in Taiz Zoo are trapped in blo...</td>\n",
              "      <td>Rupert Murdoch describes Brexit as 'wonderful'...</td>\n",
              "      <td>More than 40 killed in Yemen suicide attacks</td>\n",
              "      <td>Google Found Disastrous Symantec and Norton Vu...</td>\n",
              "      <td>Extremist violence on the rise in Germany: Dom...</td>\n",
              "      <td>BBC News: Labour MPs pass Corbyn no-confidence...</td>\n",
              "      <td>Tiny New Zealand town with 'too many jobs' lau...</td>\n",
              "    </tr>\n",
              "    <tr>\n",
              "      <th>1987</th>\n",
              "      <td>2016-06-30</td>\n",
              "      <td>1</td>\n",
              "      <td>Jamaica proposes marijuana dispensers for tour...</td>\n",
              "      <td>Stephen Hawking says pollution and 'stupidity'...</td>\n",
              "      <td>Boris Johnson says he will not run for Tory pa...</td>\n",
              "      <td>Six gay men in Ivory Coast were abused and for...</td>\n",
              "      <td>Switzerland denies citizenship to Muslim immig...</td>\n",
              "      <td>Palestinian terrorist stabs israeli teen girl ...</td>\n",
              "      <td>Puerto Rico will default on $1 billion of debt...</td>\n",
              "      <td>Republic of Ireland fans to be awarded medal f...</td>\n",
              "      <td>Afghan suicide bomber 'kills up to 40' - BBC News</td>\n",
              "      <td>US airstrikes kill at least 250 ISIS fighters ...</td>\n",
              "      <td>Turkish Cop Who Took Down Istanbul Gunman Hail...</td>\n",
              "      <td>Cannabis compounds could treat Alzheimer's by ...</td>\n",
              "      <td>Japan's top court has approved blanket surveil...</td>\n",
              "      <td>CIA Gave Romania Millions to Host Secret Prisons</td>\n",
              "      <td>Groups urge U.N. to suspend Saudi Arabia from ...</td>\n",
              "      <td>Googles free wifi at Indian railway stations i...</td>\n",
              "      <td>Mounting evidence suggests 'hobbits' were wipe...</td>\n",
              "      <td>The men who carried out Tuesday's terror attac...</td>\n",
              "      <td>Calls to suspend Saudi Arabia from UN Human Ri...</td>\n",
              "      <td>More Than 100 Nobel Laureates Call Out Greenpe...</td>\n",
              "      <td>British pedophile sentenced to 85 years in US ...</td>\n",
              "      <td>US permitted 1,200 offshore fracks in Gulf of ...</td>\n",
              "      <td>We will be swimming in ridicule - French beach...</td>\n",
              "      <td>UEFA says no minutes of silence for Istanbul v...</td>\n",
              "      <td>Law Enforcement Sources: Gun Used in Paris Ter...</td>\n",
              "    </tr>\n",
              "    <tr>\n",
              "      <th>1988</th>\n",
              "      <td>2016-07-01</td>\n",
              "      <td>1</td>\n",
              "      <td>A 117-year-old woman in Mexico City finally re...</td>\n",
              "      <td>IMF chief backs Athens as permanent Olympic host</td>\n",
              "      <td>The president of France says if Brexit won, so...</td>\n",
              "      <td>British Man Who Must Give Police 24 Hours' Not...</td>\n",
              "      <td>100+ Nobel laureates urge Greenpeace to stop o...</td>\n",
              "      <td>Brazil: Huge spike in number of police killing...</td>\n",
              "      <td>Austria's highest court annuls presidential el...</td>\n",
              "      <td>Facebook wins privacy case, can track any Belg...</td>\n",
              "      <td>Switzerland denies Muslim girls citizenship af...</td>\n",
              "      <td>China kills millions of innocent meditators fo...</td>\n",
              "      <td>France Cracks Down on Factory Farms - A viral ...</td>\n",
              "      <td>Abbas PLO Faction Calls Killer of 13-Year-Old ...</td>\n",
              "      <td>Taiwanese warship accidentally fires missile t...</td>\n",
              "      <td>Iran celebrates American Human Rights Week, mo...</td>\n",
              "      <td>U.N. panel moves to curb bias against L.G.B.T....</td>\n",
              "      <td>The United States has placed Myanmar, Uzbekist...</td>\n",
              "      <td>S&amp;amp;P revises European Union credit rating t...</td>\n",
              "      <td>India gets $1 billion loan from World Bank for...</td>\n",
              "      <td>U.S. sailors detained by Iran spoke too much u...</td>\n",
              "      <td>Mass fish kill in Vietnam solved as Taiwan ste...</td>\n",
              "      <td>Philippines president Rodrigo Duterte urges pe...</td>\n",
              "      <td>Spain arrests three Pakistanis accused of prom...</td>\n",
              "      <td>Venezuela, where anger over food shortages is ...</td>\n",
              "      <td>A Hindu temple worker has been killed by three...</td>\n",
              "      <td>Ozone layer hole seems to be healing - US &amp;amp...</td>\n",
              "    </tr>\n",
              "  </tbody>\n",
              "</table>\n",
              "</div>"
            ],
            "text/plain": [
              "            Date  ...                                              Top25\n",
              "1984  2016-06-27  ...  Pakistani clerics declare transgender marriage...\n",
              "1985  2016-06-28  ...  Mexico's security forces routinely use 'sexual...\n",
              "1986  2016-06-29  ...  Tiny New Zealand town with 'too many jobs' lau...\n",
              "1987  2016-06-30  ...  Law Enforcement Sources: Gun Used in Paris Ter...\n",
              "1988  2016-07-01  ...  Ozone layer hole seems to be healing - US &amp...\n",
              "\n",
              "[5 rows x 27 columns]"
            ]
          },
          "metadata": {
            "tags": []
          },
          "execution_count": 26
        }
      ]
    },
    {
      "cell_type": "code",
      "metadata": {
        "id": "uAGhaNX7PhhT"
      },
      "source": [
        "train = df[df['Date'] < '2015-01-01']\n",
        "test = df[df['Date'] > '2014-12-31']"
      ],
      "execution_count": 27,
      "outputs": []
    },
    {
      "cell_type": "code",
      "metadata": {
        "colab": {
          "base_uri": "https://localhost:8080/",
          "height": 712
        },
        "id": "VPdCeidtRF58",
        "outputId": "707fa202-2da7-4c3b-96f3-93a9761eb290"
      },
      "source": [
        "train.head()"
      ],
      "execution_count": 28,
      "outputs": [
        {
          "output_type": "execute_result",
          "data": {
            "text/html": [
              "<div>\n",
              "<style scoped>\n",
              "    .dataframe tbody tr th:only-of-type {\n",
              "        vertical-align: middle;\n",
              "    }\n",
              "\n",
              "    .dataframe tbody tr th {\n",
              "        vertical-align: top;\n",
              "    }\n",
              "\n",
              "    .dataframe thead th {\n",
              "        text-align: right;\n",
              "    }\n",
              "</style>\n",
              "<table border=\"1\" class=\"dataframe\">\n",
              "  <thead>\n",
              "    <tr style=\"text-align: right;\">\n",
              "      <th></th>\n",
              "      <th>Date</th>\n",
              "      <th>Label</th>\n",
              "      <th>Top1</th>\n",
              "      <th>Top2</th>\n",
              "      <th>Top3</th>\n",
              "      <th>Top4</th>\n",
              "      <th>Top5</th>\n",
              "      <th>Top6</th>\n",
              "      <th>Top7</th>\n",
              "      <th>Top8</th>\n",
              "      <th>Top9</th>\n",
              "      <th>Top10</th>\n",
              "      <th>Top11</th>\n",
              "      <th>Top12</th>\n",
              "      <th>Top13</th>\n",
              "      <th>Top14</th>\n",
              "      <th>Top15</th>\n",
              "      <th>Top16</th>\n",
              "      <th>Top17</th>\n",
              "      <th>Top18</th>\n",
              "      <th>Top19</th>\n",
              "      <th>Top20</th>\n",
              "      <th>Top21</th>\n",
              "      <th>Top22</th>\n",
              "      <th>Top23</th>\n",
              "      <th>Top24</th>\n",
              "      <th>Top25</th>\n",
              "    </tr>\n",
              "  </thead>\n",
              "  <tbody>\n",
              "    <tr>\n",
              "      <th>0</th>\n",
              "      <td>2008-08-08</td>\n",
              "      <td>0</td>\n",
              "      <td>b\"Georgia 'downs two Russian warplanes' as cou...</td>\n",
              "      <td>b'BREAKING: Musharraf to be impeached.'</td>\n",
              "      <td>b'Russia Today: Columns of troops roll into So...</td>\n",
              "      <td>b'Russian tanks are moving towards the capital...</td>\n",
              "      <td>b\"Afghan children raped with 'impunity,' U.N. ...</td>\n",
              "      <td>b'150 Russian tanks have entered South Ossetia...</td>\n",
              "      <td>b\"Breaking: Georgia invades South Ossetia, Rus...</td>\n",
              "      <td>b\"The 'enemy combatent' trials are nothing but...</td>\n",
              "      <td>b'Georgian troops retreat from S. Osettain cap...</td>\n",
              "      <td>b'Did the U.S. Prep Georgia for War with Russia?'</td>\n",
              "      <td>b'Rice Gives Green Light for Israel to Attack ...</td>\n",
              "      <td>b'Announcing:Class Action Lawsuit on Behalf of...</td>\n",
              "      <td>b\"So---Russia and Georgia are at war and the N...</td>\n",
              "      <td>b\"China tells Bush to stay out of other countr...</td>\n",
              "      <td>b'Did World War III start today?'</td>\n",
              "      <td>b'Georgia Invades South Ossetia - if Russia ge...</td>\n",
              "      <td>b'Al-Qaeda Faces Islamist Backlash'</td>\n",
              "      <td>b'Condoleezza Rice: \"The US would not act to p...</td>\n",
              "      <td>b'This is a busy day:  The European Union has ...</td>\n",
              "      <td>b\"Georgia will withdraw 1,000 soldiers from Ir...</td>\n",
              "      <td>b'Why the Pentagon Thinks Attacking Iran is a ...</td>\n",
              "      <td>b'Caucasus in crisis: Georgia invades South Os...</td>\n",
              "      <td>b'Indian shoe manufactory  - And again in a se...</td>\n",
              "      <td>b'Visitors Suffering from Mental Illnesses Ban...</td>\n",
              "      <td>b\"No Help for Mexico's Kidnapping Surge\"</td>\n",
              "    </tr>\n",
              "    <tr>\n",
              "      <th>1</th>\n",
              "      <td>2008-08-11</td>\n",
              "      <td>1</td>\n",
              "      <td>b'Why wont America and Nato help us? If they w...</td>\n",
              "      <td>b'Bush puts foot down on Georgian conflict'</td>\n",
              "      <td>b\"Jewish Georgian minister: Thanks to Israeli ...</td>\n",
              "      <td>b'Georgian army flees in disarray as Russians ...</td>\n",
              "      <td>b\"Olympic opening ceremony fireworks 'faked'\"</td>\n",
              "      <td>b'What were the Mossad with fraudulent New Zea...</td>\n",
              "      <td>b'Russia angered by Israeli military sale to G...</td>\n",
              "      <td>b'An American citizen living in S.Ossetia blam...</td>\n",
              "      <td>b'Welcome To World War IV! Now In High Definit...</td>\n",
              "      <td>b\"Georgia's move, a mistake of monumental prop...</td>\n",
              "      <td>b'Russia presses deeper into Georgia; U.S. say...</td>\n",
              "      <td>b'Abhinav Bindra wins first ever Individual Ol...</td>\n",
              "      <td>b' U.S. ship heads for Arctic to define territ...</td>\n",
              "      <td>b'Drivers in a Jerusalem taxi station threaten...</td>\n",
              "      <td>b'The French Team is Stunned by Phelps and the...</td>\n",
              "      <td>b'Israel and the US behind the Georgian aggres...</td>\n",
              "      <td>b'\"Do not believe TV, neither Russian nor Geor...</td>\n",
              "      <td>b'Riots are still going on in Montreal (Canada...</td>\n",
              "      <td>b'China to overtake US as largest manufacturer'</td>\n",
              "      <td>b'War in South Ossetia [PICS]'</td>\n",
              "      <td>b'Israeli Physicians Group Condemns State Tort...</td>\n",
              "      <td>b' Russia has just beaten the United States ov...</td>\n",
              "      <td>b'Perhaps *the* question about the Georgia - R...</td>\n",
              "      <td>b'Russia is so much better at war'</td>\n",
              "      <td>b\"So this is what it's come to: trading sex fo...</td>\n",
              "    </tr>\n",
              "    <tr>\n",
              "      <th>2</th>\n",
              "      <td>2008-08-12</td>\n",
              "      <td>0</td>\n",
              "      <td>b'Remember that adorable 9-year-old who sang a...</td>\n",
              "      <td>b\"Russia 'ends Georgia operation'\"</td>\n",
              "      <td>b'\"If we had no sexual harassment we would hav...</td>\n",
              "      <td>b\"Al-Qa'eda is losing support in Iraq because ...</td>\n",
              "      <td>b'Ceasefire in Georgia: Putin Outmaneuvers the...</td>\n",
              "      <td>b'Why Microsoft and Intel tried to kill the XO...</td>\n",
              "      <td>b'Stratfor: The Russo-Georgian War and the Bal...</td>\n",
              "      <td>b\"I'm Trying to Get a Sense of This Whole Geor...</td>\n",
              "      <td>b\"The US military was surprised by the timing ...</td>\n",
              "      <td>b'U.S. Beats War Drum as Iran Dumps the Dollar'</td>\n",
              "      <td>b'Gorbachev: \"Georgian military attacked the S...</td>\n",
              "      <td>b'CNN use footage of Tskhinvali ruins to cover...</td>\n",
              "      <td>b'Beginning a war as the Olympics were opening...</td>\n",
              "      <td>b'55 pyramids as large as the Luxor stacked in...</td>\n",
              "      <td>b'The 11 Top Party Cities in the World'</td>\n",
              "      <td>b'U.S. troops still in Georgia (did you know t...</td>\n",
              "      <td>b'Why Russias response to Georgia was right'</td>\n",
              "      <td>b'Gorbachev accuses U.S. of making a \"serious ...</td>\n",
              "      <td>b'Russia, Georgia, and NATO: Cold War Two'</td>\n",
              "      <td>b'Remember that adorable 62-year-old who led y...</td>\n",
              "      <td>b'War in Georgia: The Israeli connection'</td>\n",
              "      <td>b'All signs point to the US encouraging Georgi...</td>\n",
              "      <td>b'Christopher King argues that the US and NATO...</td>\n",
              "      <td>b'America: The New Mexico?'</td>\n",
              "      <td>b\"BBC NEWS | Asia-Pacific | Extinction 'by man...</td>\n",
              "    </tr>\n",
              "    <tr>\n",
              "      <th>3</th>\n",
              "      <td>2008-08-13</td>\n",
              "      <td>0</td>\n",
              "      <td>b' U.S. refuses Israel weapons to attack Iran:...</td>\n",
              "      <td>b\"When the president ordered to attack Tskhinv...</td>\n",
              "      <td>b' Israel clears troops who killed Reuters cam...</td>\n",
              "      <td>b'Britain\\'s policy of being tough on drugs is...</td>\n",
              "      <td>b'Body of 14 year old found in trunk; Latest (...</td>\n",
              "      <td>b'China has moved 10 *million* quake survivors...</td>\n",
              "      <td>b\"Bush announces Operation Get All Up In Russi...</td>\n",
              "      <td>b'Russian forces sink Georgian ships '</td>\n",
              "      <td>b\"The commander of a Navy air reconnaissance s...</td>\n",
              "      <td>b\"92% of CNN readers: Russia's actions in Geor...</td>\n",
              "      <td>b'USA to send fleet into Black Sea to help Geo...</td>\n",
              "      <td>b\"US warns against Israeli plan to strike agai...</td>\n",
              "      <td>b\"In an intriguing cyberalliance, two Estonian...</td>\n",
              "      <td>b'The CNN Effect: Georgia Schools Russia in In...</td>\n",
              "      <td>b'Why Russias response to Georgia was right'</td>\n",
              "      <td>b'Elephants extinct by 2020?'</td>\n",
              "      <td>b'US humanitarian missions soon in Georgia - i...</td>\n",
              "      <td>b\"Georgia's DDOS came from US sources\"</td>\n",
              "      <td>b'Russian convoy heads into Georgia, violating...</td>\n",
              "      <td>b'Israeli defence minister: US against strike ...</td>\n",
              "      <td>b'Gorbachev: We Had No Choice'</td>\n",
              "      <td>b'Witness: Russian forces head towards Tbilisi...</td>\n",
              "      <td>b' Quarter of Russians blame U.S. for conflict...</td>\n",
              "      <td>b'Georgian president  says US military will ta...</td>\n",
              "      <td>b'2006: Nobel laureate Aleksander Solzhenitsyn...</td>\n",
              "    </tr>\n",
              "    <tr>\n",
              "      <th>4</th>\n",
              "      <td>2008-08-14</td>\n",
              "      <td>1</td>\n",
              "      <td>b'All the experts admit that we should legalis...</td>\n",
              "      <td>b'War in South Osetia - 89 pictures made by a ...</td>\n",
              "      <td>b'Swedish wrestler Ara Abrahamian throws away ...</td>\n",
              "      <td>b'Russia exaggerated the death toll in South O...</td>\n",
              "      <td>b'Missile That Killed 9 Inside Pakistan May Ha...</td>\n",
              "      <td>b\"Rushdie Condemns Random House's Refusal to P...</td>\n",
              "      <td>b'Poland and US agree to missle defense deal. ...</td>\n",
              "      <td>b'Will the Russians conquer Tblisi? Bet on it,...</td>\n",
              "      <td>b'Russia exaggerating South Ossetian death tol...</td>\n",
              "      <td>b' Musharraf expected to resign rather than fa...</td>\n",
              "      <td>b'Moscow Made Plans Months Ago to Invade Georgia'</td>\n",
              "      <td>b'Why Russias response to Georgia was right'</td>\n",
              "      <td>b'Nigeria has handed over the potentially oil-...</td>\n",
              "      <td>b'The US and Poland have agreed a preliminary ...</td>\n",
              "      <td>b'Russia apparently is sabotaging infrastructu...</td>\n",
              "      <td>b'Bank analyst forecast Georgian crisis 2 days...</td>\n",
              "      <td>b\"Georgia confict could set back Russia's US r...</td>\n",
              "      <td>b'War in the Caucasus is as much the product o...</td>\n",
              "      <td>b'\"Non-media\" photos of South Ossetia/Georgia ...</td>\n",
              "      <td>b'Georgian TV reporter shot by Russian sniper ...</td>\n",
              "      <td>b'Saudi Arabia: Mother moves to block child ma...</td>\n",
              "      <td>b'Taliban wages war on humanitarian aid workers'</td>\n",
              "      <td>b'Russia: World  \"can forget about\" Georgia\\'s...</td>\n",
              "      <td>b'Darfur rebels accuse Sudan of mounting major...</td>\n",
              "      <td>b'Philippines : Peace Advocate say Muslims nee...</td>\n",
              "    </tr>\n",
              "  </tbody>\n",
              "</table>\n",
              "</div>"
            ],
            "text/plain": [
              "         Date  ...                                              Top25\n",
              "0  2008-08-08  ...           b\"No Help for Mexico's Kidnapping Surge\"\n",
              "1  2008-08-11  ...  b\"So this is what it's come to: trading sex fo...\n",
              "2  2008-08-12  ...  b\"BBC NEWS | Asia-Pacific | Extinction 'by man...\n",
              "3  2008-08-13  ...  b'2006: Nobel laureate Aleksander Solzhenitsyn...\n",
              "4  2008-08-14  ...  b'Philippines : Peace Advocate say Muslims nee...\n",
              "\n",
              "[5 rows x 27 columns]"
            ]
          },
          "metadata": {
            "tags": []
          },
          "execution_count": 28
        }
      ]
    },
    {
      "cell_type": "code",
      "metadata": {
        "colab": {
          "base_uri": "https://localhost:8080/",
          "height": 747
        },
        "id": "pVpS8GNrRGY5",
        "outputId": "1227eb37-64fe-4aa9-ad24-85332899ced7"
      },
      "source": [
        "test.head()"
      ],
      "execution_count": 29,
      "outputs": [
        {
          "output_type": "execute_result",
          "data": {
            "text/html": [
              "<div>\n",
              "<style scoped>\n",
              "    .dataframe tbody tr th:only-of-type {\n",
              "        vertical-align: middle;\n",
              "    }\n",
              "\n",
              "    .dataframe tbody tr th {\n",
              "        vertical-align: top;\n",
              "    }\n",
              "\n",
              "    .dataframe thead th {\n",
              "        text-align: right;\n",
              "    }\n",
              "</style>\n",
              "<table border=\"1\" class=\"dataframe\">\n",
              "  <thead>\n",
              "    <tr style=\"text-align: right;\">\n",
              "      <th></th>\n",
              "      <th>Date</th>\n",
              "      <th>Label</th>\n",
              "      <th>Top1</th>\n",
              "      <th>Top2</th>\n",
              "      <th>Top3</th>\n",
              "      <th>Top4</th>\n",
              "      <th>Top5</th>\n",
              "      <th>Top6</th>\n",
              "      <th>Top7</th>\n",
              "      <th>Top8</th>\n",
              "      <th>Top9</th>\n",
              "      <th>Top10</th>\n",
              "      <th>Top11</th>\n",
              "      <th>Top12</th>\n",
              "      <th>Top13</th>\n",
              "      <th>Top14</th>\n",
              "      <th>Top15</th>\n",
              "      <th>Top16</th>\n",
              "      <th>Top17</th>\n",
              "      <th>Top18</th>\n",
              "      <th>Top19</th>\n",
              "      <th>Top20</th>\n",
              "      <th>Top21</th>\n",
              "      <th>Top22</th>\n",
              "      <th>Top23</th>\n",
              "      <th>Top24</th>\n",
              "      <th>Top25</th>\n",
              "    </tr>\n",
              "  </thead>\n",
              "  <tbody>\n",
              "    <tr>\n",
              "      <th>1611</th>\n",
              "      <td>2015-01-02</td>\n",
              "      <td>1</td>\n",
              "      <td>Most cases of cancer are the result of sheer b...</td>\n",
              "      <td>Iran dismissed United States efforts to fight ...</td>\n",
              "      <td>Poll: One in 8 Germans would join anti-Muslim ...</td>\n",
              "      <td>UK royal family's Prince Andrew named in US la...</td>\n",
              "      <td>Some 40 asylum-seekers refused to leave the bu...</td>\n",
              "      <td>Pakistani boat blows self up after India navy ...</td>\n",
              "      <td>Sweden hit by third mosque arson attack in a week</td>\n",
              "      <td>940 cars set alight during French New Year</td>\n",
              "      <td>Salaries for top CEOs rose twice as fast as av...</td>\n",
              "      <td>Norway violated equal-pay law, judge says: Jud...</td>\n",
              "      <td>Imam wants radical recruiters of Muslim youth ...</td>\n",
              "      <td>Saudi Arabia beheaded 83 people in 2014, the m...</td>\n",
              "      <td>'A living hell' for slaves on remote South Kor...</td>\n",
              "      <td>Worlds 400 richest get richer, adding $92bn in...</td>\n",
              "      <td>Rental Car Stereos Infringe Copyright, Music R...</td>\n",
              "      <td>Ukrainian minister threatens TV channel with c...</td>\n",
              "      <td>Palestinian President Mahmoud Abbas has entere...</td>\n",
              "      <td>Israeli security center publishes names of 50 ...</td>\n",
              "      <td>The year 2014 was the deadliest year yet in Sy...</td>\n",
              "      <td>A Secret underground complex built by the Nazi...</td>\n",
              "      <td>Restrictions on Web Freedom a Major Global Iss...</td>\n",
              "      <td>Austrian journalist Erich Mchel delivered a pr...</td>\n",
              "      <td>Thousands of Ukraine nationalists march in Kiev</td>\n",
              "      <td>Chinas New Years Resolution: No More Harvestin...</td>\n",
              "      <td>Authorities Pull Plug on Russia's Last Politic...</td>\n",
              "    </tr>\n",
              "    <tr>\n",
              "      <th>1612</th>\n",
              "      <td>2015-01-05</td>\n",
              "      <td>0</td>\n",
              "      <td>Moscow-&amp;gt;Beijing high speed train will reduc...</td>\n",
              "      <td>Two ancient tombs were discovered in Egypt on ...</td>\n",
              "      <td>China complains to Pyongyang after N Korean so...</td>\n",
              "      <td>Scotland Headed Towards Being Fossil Fuel-Free...</td>\n",
              "      <td>Prime Minister Shinzo Abe said Monday he will ...</td>\n",
              "      <td>Sex slave at centre of Prince Andrew scandal f...</td>\n",
              "      <td>Gay relative of Hamas founder faces deportatio...</td>\n",
              "      <td>The number of female drug addicts in Iran has ...</td>\n",
              "      <td>After Decades of Searching, the Causeway for t...</td>\n",
              "      <td>India lost 64 tigers in 2014</td>\n",
              "      <td>Lizard Squad hacking of Sony was \"huge marketi...</td>\n",
              "      <td>Russia 'may face chaos' if extra sanctions imp...</td>\n",
              "      <td>The Saudi air and land forces carry out an att...</td>\n",
              "      <td>ISIL is reportedly setting up a bank in attemp...</td>\n",
              "      <td>Israel to brand anti-assimilation group Lehava...</td>\n",
              "      <td>The Islamic State has approved a 2015 budget o...</td>\n",
              "      <td>Iceland To Withdraw EU Application, Lift Capit...</td>\n",
              "      <td>Blackfield Capital Founder Goes Missing: The v...</td>\n",
              "      <td>Rocket stage crashes back to Earth in rural Ch...</td>\n",
              "      <td>2 Dead as Aircraft Bombs Greek Tanker in Libya...</td>\n",
              "      <td>Belgian murderer Frank Van Den Bleeken to die ...</td>\n",
              "      <td>Czech President criticizes Ukrainian PM; says ...</td>\n",
              "      <td>3 Vietnamese jets join search for 16 missing F...</td>\n",
              "      <td>France seeks end to Russia sanctions over Ukraine</td>\n",
              "      <td>China scraps rare earths caps</td>\n",
              "    </tr>\n",
              "    <tr>\n",
              "      <th>1613</th>\n",
              "      <td>2015-01-06</td>\n",
              "      <td>0</td>\n",
              "      <td>US oil falls below $50 a barrel</td>\n",
              "      <td>Toyota gives away 5,680 fuel cell patents to b...</td>\n",
              "      <td>Young Indian couple who had been granted polic...</td>\n",
              "      <td>A senior figure in Islamic States self-declare...</td>\n",
              "      <td>Fukushima rice passes radiation tests for 1st ...</td>\n",
              "      <td>Nearly all Spanish parties guilty of financial...</td>\n",
              "      <td>King Abdullah to abdicate Saudi Throne</td>\n",
              "      <td>Taliban Commander Caught Networking On LinkedIn</td>\n",
              "      <td>Mexican missing students: mayor's wife charged...</td>\n",
              "      <td>New York Times reporter James Risen refused on...</td>\n",
              "      <td>S. Korea sends sweet potatoes to N. Korea for ...</td>\n",
              "      <td>Turkey: Dutch journalist Frederike Geerdink de...</td>\n",
              "      <td>KUALA LUMPUR, Jan 4  Islam prohibits its marri...</td>\n",
              "      <td>Iraqi MP:'Iran and their Top General, Qassem S...</td>\n",
              "      <td>Pakistan offers $100,000 bounty for Taliban le...</td>\n",
              "      <td>Thousands of Indians have fled from their home...</td>\n",
              "      <td>Turkey sacks judges who oversaw Erdogan corrup...</td>\n",
              "      <td>SpaceX Falcon 9 launch and recovery has been a...</td>\n",
              "      <td>CNN: Americans charged in botched Gambia coup</td>\n",
              "      <td>Islamic State 'Police' Official Beheaded.</td>\n",
              "      <td>Libya bans Palestinians from country to preven...</td>\n",
              "      <td>A judicial inquiry was opened in France on Mon...</td>\n",
              "      <td>Video has captured the moment a cameraman was ...</td>\n",
              "      <td>Syria has complained to the United Nations tha...</td>\n",
              "      <td>Tests over, India set to make the iris of bigg...</td>\n",
              "    </tr>\n",
              "    <tr>\n",
              "      <th>1614</th>\n",
              "      <td>2015-01-07</td>\n",
              "      <td>1</td>\n",
              "      <td>'Shots fired' at French magazine HQ</td>\n",
              "      <td>90% of Bibi Netanyahus Campaign Funds From U.S.</td>\n",
              "      <td>ISIS behead street magician for entertaining c...</td>\n",
              "      <td>Denmark sets new world record in renewable ene...</td>\n",
              "      <td>ISIS Closes Schools In Syria, Leaving 670000 C...</td>\n",
              "      <td>The European Union wants Turkey to explain how...</td>\n",
              "      <td>10 people have died in a shooting at the headq...</td>\n",
              "      <td>Most Earth-like planet ever discovered could b...</td>\n",
              "      <td>New questions raised about U.S.-Saudi relation...</td>\n",
              "      <td>Massive hunt underway for gunmen in Paris terr...</td>\n",
              "      <td>2014 Was Officially the Hottest Year on Record...</td>\n",
              "      <td>Chinese authorities have isolated and separate...</td>\n",
              "      <td>German anti-Muslim protesters rally despite Me...</td>\n",
              "      <td>China encourages environmental groups to sue p...</td>\n",
              "      <td>United Nations Secretary General Ban Ki-moon s...</td>\n",
              "      <td>Discovery of witnesss mutilated body feeds cla...</td>\n",
              "      <td>Radical Islam a growing threat to sub-Saharan ...</td>\n",
              "      <td>Tony Blair may 'face war crime charges' over I...</td>\n",
              "      <td>Benjamin Netanyahu says settlements unlikely t...</td>\n",
              "      <td>Tasmania moves to allow corporations to sue pr...</td>\n",
              "      <td>Indonesia search chief: Tail section of AirAsi...</td>\n",
              "      <td>North Korean Defector: \"Bureau 121\" Hackers lo...</td>\n",
              "      <td>Female suicide bomber attacks police station i...</td>\n",
              "      <td>IS to turn Syria schools into religious indoct...</td>\n",
              "      <td>Ebola vaccine trials in Halifax so far a success</td>\n",
              "    </tr>\n",
              "    <tr>\n",
              "      <th>1615</th>\n",
              "      <td>2015-01-08</td>\n",
              "      <td>1</td>\n",
              "      <td>New Charlie Hebdo issue to come out next week:...</td>\n",
              "      <td>Ahmed Merabet, Cop Killed In Paris Attacks, Wa...</td>\n",
              "      <td>Youngest Suspect in Charlie Hebdo Attack Turns...</td>\n",
              "      <td>Grenades thrown at a mosque in Le Mans, west o...</td>\n",
              "      <td>Danish newspaper to print Charlie Hebdo cartoo...</td>\n",
              "      <td>Muslim politician from India offers $8M to Cha...</td>\n",
              "      <td>Vladimir Putin has condemned a deadly terroris...</td>\n",
              "      <td>Turkey is trying to hide any evidence that hol...</td>\n",
              "      <td>Danish Paper That Published 12 Muhammad Cartoo...</td>\n",
              "      <td>Two Charlie Hebdo attackers located in north F...</td>\n",
              "      <td>French imam urges Muslims to protest over Pari...</td>\n",
              "      <td>Policewoman shot by gunman near Paris dies: po...</td>\n",
              "      <td>Shooting heard on the outskirts of Paris, 1 of...</td>\n",
              "      <td>Nobody was reported killed by fighting in Syri...</td>\n",
              "      <td>Time to crack down on 'Islamophobia', Turkey's...</td>\n",
              "      <td>Thousands in Europe hold up Pens in Solidarity...</td>\n",
              "      <td>Journalists race to show solidarity with 'Char...</td>\n",
              "      <td>Antibiotics: US discovery labelled 'game-chang...</td>\n",
              "      <td>The Charlie Hebdo attack condemned by Saudi Ar...</td>\n",
              "      <td>Brisbane man wearing \"I'm with stupid\" t-shirt...</td>\n",
              "      <td>Fourth Russian General Commits Suicide in Less...</td>\n",
              "      <td>Meteorite turns night into day over Bucharest,...</td>\n",
              "      <td>Israeli doctors implant Syrian man with titani...</td>\n",
              "      <td>Unusual Metal Recovered from Ancient Greek Shi...</td>\n",
              "      <td>Young mother let terrorists into Charlie Hebdo...</td>\n",
              "    </tr>\n",
              "  </tbody>\n",
              "</table>\n",
              "</div>"
            ],
            "text/plain": [
              "            Date  ...                                              Top25\n",
              "1611  2015-01-02  ...  Authorities Pull Plug on Russia's Last Politic...\n",
              "1612  2015-01-05  ...                      China scraps rare earths caps\n",
              "1613  2015-01-06  ...  Tests over, India set to make the iris of bigg...\n",
              "1614  2015-01-07  ...   Ebola vaccine trials in Halifax so far a success\n",
              "1615  2015-01-08  ...  Young mother let terrorists into Charlie Hebdo...\n",
              "\n",
              "[5 rows x 27 columns]"
            ]
          },
          "metadata": {
            "tags": []
          },
          "execution_count": 29
        }
      ]
    },
    {
      "cell_type": "markdown",
      "metadata": {
        "id": "T1ZSH7ihTzFp"
      },
      "source": [
        "## Preparing Training and Test Dataset"
      ]
    },
    {
      "cell_type": "code",
      "metadata": {
        "colab": {
          "base_uri": "https://localhost:8080/",
          "height": 730
        },
        "id": "-f6Nj7TzT4WV",
        "outputId": "83b4992d-4fc5-4ae1-d93c-150d838b5f87"
      },
      "source": [
        "data= train.iloc[:,2:27]\n",
        "data.replace(\"[^a-zA-Z]\",\" \",regex=True, inplace=True)\n",
        "\n",
        "# RENAMING COLUMN NAME FOR EASE OF ACCESS\n",
        "list1=[i for i in range(25)]\n",
        "new_Index=[str(i) for i in list1]\n",
        "data.columns= new_Index\n",
        "data.head()"
      ],
      "execution_count": 30,
      "outputs": [
        {
          "output_type": "execute_result",
          "data": {
            "text/html": [
              "<div>\n",
              "<style scoped>\n",
              "    .dataframe tbody tr th:only-of-type {\n",
              "        vertical-align: middle;\n",
              "    }\n",
              "\n",
              "    .dataframe tbody tr th {\n",
              "        vertical-align: top;\n",
              "    }\n",
              "\n",
              "    .dataframe thead th {\n",
              "        text-align: right;\n",
              "    }\n",
              "</style>\n",
              "<table border=\"1\" class=\"dataframe\">\n",
              "  <thead>\n",
              "    <tr style=\"text-align: right;\">\n",
              "      <th></th>\n",
              "      <th>0</th>\n",
              "      <th>1</th>\n",
              "      <th>2</th>\n",
              "      <th>3</th>\n",
              "      <th>4</th>\n",
              "      <th>5</th>\n",
              "      <th>6</th>\n",
              "      <th>7</th>\n",
              "      <th>8</th>\n",
              "      <th>9</th>\n",
              "      <th>10</th>\n",
              "      <th>11</th>\n",
              "      <th>12</th>\n",
              "      <th>13</th>\n",
              "      <th>14</th>\n",
              "      <th>15</th>\n",
              "      <th>16</th>\n",
              "      <th>17</th>\n",
              "      <th>18</th>\n",
              "      <th>19</th>\n",
              "      <th>20</th>\n",
              "      <th>21</th>\n",
              "      <th>22</th>\n",
              "      <th>23</th>\n",
              "      <th>24</th>\n",
              "    </tr>\n",
              "  </thead>\n",
              "  <tbody>\n",
              "    <tr>\n",
              "      <th>0</th>\n",
              "      <td>b Georgia  downs two Russian warplanes  as cou...</td>\n",
              "      <td>b BREAKING  Musharraf to be impeached</td>\n",
              "      <td>b Russia Today  Columns of troops roll into So...</td>\n",
              "      <td>b Russian tanks are moving towards the capital...</td>\n",
              "      <td>b Afghan children raped with  impunity   U N  ...</td>\n",
              "      <td>b     Russian tanks have entered South Ossetia...</td>\n",
              "      <td>b Breaking  Georgia invades South Ossetia  Rus...</td>\n",
              "      <td>b The  enemy combatent  trials are nothing but...</td>\n",
              "      <td>b Georgian troops retreat from S  Osettain cap...</td>\n",
              "      <td>b Did the U S  Prep Georgia for War with Russia</td>\n",
              "      <td>b Rice Gives Green Light for Israel to Attack ...</td>\n",
              "      <td>b Announcing Class Action Lawsuit on Behalf of...</td>\n",
              "      <td>b So   Russia and Georgia are at war and the N...</td>\n",
              "      <td>b China tells Bush to stay out of other countr...</td>\n",
              "      <td>b Did World War III start today</td>\n",
              "      <td>b Georgia Invades South Ossetia   if Russia ge...</td>\n",
              "      <td>b Al Qaeda Faces Islamist Backlash</td>\n",
              "      <td>b Condoleezza Rice   The US would not act to p...</td>\n",
              "      <td>b This is a busy day   The European Union has ...</td>\n",
              "      <td>b Georgia will withdraw       soldiers from Ir...</td>\n",
              "      <td>b Why the Pentagon Thinks Attacking Iran is a ...</td>\n",
              "      <td>b Caucasus in crisis  Georgia invades South Os...</td>\n",
              "      <td>b Indian shoe manufactory    And again in a se...</td>\n",
              "      <td>b Visitors Suffering from Mental Illnesses Ban...</td>\n",
              "      <td>b No Help for Mexico s Kidnapping Surge</td>\n",
              "    </tr>\n",
              "    <tr>\n",
              "      <th>1</th>\n",
              "      <td>b Why wont America and Nato help us  If they w...</td>\n",
              "      <td>b Bush puts foot down on Georgian conflict</td>\n",
              "      <td>b Jewish Georgian minister  Thanks to Israeli ...</td>\n",
              "      <td>b Georgian army flees in disarray as Russians ...</td>\n",
              "      <td>b Olympic opening ceremony fireworks  faked</td>\n",
              "      <td>b What were the Mossad with fraudulent New Zea...</td>\n",
              "      <td>b Russia angered by Israeli military sale to G...</td>\n",
              "      <td>b An American citizen living in S Ossetia blam...</td>\n",
              "      <td>b Welcome To World War IV  Now In High Definit...</td>\n",
              "      <td>b Georgia s move  a mistake of monumental prop...</td>\n",
              "      <td>b Russia presses deeper into Georgia  U S  say...</td>\n",
              "      <td>b Abhinav Bindra wins first ever Individual Ol...</td>\n",
              "      <td>b  U S  ship heads for Arctic to define territ...</td>\n",
              "      <td>b Drivers in a Jerusalem taxi station threaten...</td>\n",
              "      <td>b The French Team is Stunned by Phelps and the...</td>\n",
              "      <td>b Israel and the US behind the Georgian aggres...</td>\n",
              "      <td>b  Do not believe TV  neither Russian nor Geor...</td>\n",
              "      <td>b Riots are still going on in Montreal  Canada...</td>\n",
              "      <td>b China to overtake US as largest manufacturer</td>\n",
              "      <td>b War in South Ossetia  PICS</td>\n",
              "      <td>b Israeli Physicians Group Condemns State Tort...</td>\n",
              "      <td>b  Russia has just beaten the United States ov...</td>\n",
              "      <td>b Perhaps  the  question about the Georgia   R...</td>\n",
              "      <td>b Russia is so much better at war</td>\n",
              "      <td>b So this is what it s come to  trading sex fo...</td>\n",
              "    </tr>\n",
              "    <tr>\n",
              "      <th>2</th>\n",
              "      <td>b Remember that adorable   year old who sang a...</td>\n",
              "      <td>b Russia  ends Georgia operation</td>\n",
              "      <td>b  If we had no sexual harassment we would hav...</td>\n",
              "      <td>b Al Qa eda is losing support in Iraq because ...</td>\n",
              "      <td>b Ceasefire in Georgia  Putin Outmaneuvers the...</td>\n",
              "      <td>b Why Microsoft and Intel tried to kill the XO...</td>\n",
              "      <td>b Stratfor  The Russo Georgian War and the Bal...</td>\n",
              "      <td>b I m Trying to Get a Sense of This Whole Geor...</td>\n",
              "      <td>b The US military was surprised by the timing ...</td>\n",
              "      <td>b U S  Beats War Drum as Iran Dumps the Dollar</td>\n",
              "      <td>b Gorbachev   Georgian military attacked the S...</td>\n",
              "      <td>b CNN use footage of Tskhinvali ruins to cover...</td>\n",
              "      <td>b Beginning a war as the Olympics were opening...</td>\n",
              "      <td>b    pyramids as large as the Luxor stacked in...</td>\n",
              "      <td>b The    Top Party Cities in the World</td>\n",
              "      <td>b U S  troops still in Georgia  did you know t...</td>\n",
              "      <td>b Why Russias response to Georgia was right</td>\n",
              "      <td>b Gorbachev accuses U S  of making a  serious ...</td>\n",
              "      <td>b Russia  Georgia  and NATO  Cold War Two</td>\n",
              "      <td>b Remember that adorable    year old who led y...</td>\n",
              "      <td>b War in Georgia  The Israeli connection</td>\n",
              "      <td>b All signs point to the US encouraging Georgi...</td>\n",
              "      <td>b Christopher King argues that the US and NATO...</td>\n",
              "      <td>b America  The New Mexico</td>\n",
              "      <td>b BBC NEWS   Asia Pacific   Extinction  by man...</td>\n",
              "    </tr>\n",
              "    <tr>\n",
              "      <th>3</th>\n",
              "      <td>b  U S  refuses Israel weapons to attack Iran ...</td>\n",
              "      <td>b When the president ordered to attack Tskhinv...</td>\n",
              "      <td>b  Israel clears troops who killed Reuters cam...</td>\n",
              "      <td>b Britain  s policy of being tough on drugs is...</td>\n",
              "      <td>b Body of    year old found in trunk  Latest  ...</td>\n",
              "      <td>b China has moved     million  quake survivors...</td>\n",
              "      <td>b Bush announces Operation Get All Up In Russi...</td>\n",
              "      <td>b Russian forces sink Georgian ships</td>\n",
              "      <td>b The commander of a Navy air reconnaissance s...</td>\n",
              "      <td>b     of CNN readers  Russia s actions in Geor...</td>\n",
              "      <td>b USA to send fleet into Black Sea to help Geo...</td>\n",
              "      <td>b US warns against Israeli plan to strike agai...</td>\n",
              "      <td>b In an intriguing cyberalliance  two Estonian...</td>\n",
              "      <td>b The CNN Effect  Georgia Schools Russia in In...</td>\n",
              "      <td>b Why Russias response to Georgia was right</td>\n",
              "      <td>b Elephants extinct by</td>\n",
              "      <td>b US humanitarian missions soon in Georgia   i...</td>\n",
              "      <td>b Georgia s DDOS came from US sources</td>\n",
              "      <td>b Russian convoy heads into Georgia  violating...</td>\n",
              "      <td>b Israeli defence minister  US against strike ...</td>\n",
              "      <td>b Gorbachev  We Had No Choice</td>\n",
              "      <td>b Witness  Russian forces head towards Tbilisi...</td>\n",
              "      <td>b  Quarter of Russians blame U S  for conflict...</td>\n",
              "      <td>b Georgian president  says US military will ta...</td>\n",
              "      <td>b       Nobel laureate Aleksander Solzhenitsyn...</td>\n",
              "    </tr>\n",
              "    <tr>\n",
              "      <th>4</th>\n",
              "      <td>b All the experts admit that we should legalis...</td>\n",
              "      <td>b War in South Osetia      pictures made by a ...</td>\n",
              "      <td>b Swedish wrestler Ara Abrahamian throws away ...</td>\n",
              "      <td>b Russia exaggerated the death toll in South O...</td>\n",
              "      <td>b Missile That Killed   Inside Pakistan May Ha...</td>\n",
              "      <td>b Rushdie Condemns Random House s Refusal to P...</td>\n",
              "      <td>b Poland and US agree to missle defense deal  ...</td>\n",
              "      <td>b Will the Russians conquer Tblisi  Bet on it ...</td>\n",
              "      <td>b Russia exaggerating South Ossetian death tol...</td>\n",
              "      <td>b  Musharraf expected to resign rather than fa...</td>\n",
              "      <td>b Moscow Made Plans Months Ago to Invade Georgia</td>\n",
              "      <td>b Why Russias response to Georgia was right</td>\n",
              "      <td>b Nigeria has handed over the potentially oil ...</td>\n",
              "      <td>b The US and Poland have agreed a preliminary ...</td>\n",
              "      <td>b Russia apparently is sabotaging infrastructu...</td>\n",
              "      <td>b Bank analyst forecast Georgian crisis   days...</td>\n",
              "      <td>b Georgia confict could set back Russia s US r...</td>\n",
              "      <td>b War in the Caucasus is as much the product o...</td>\n",
              "      <td>b  Non media  photos of South Ossetia Georgia ...</td>\n",
              "      <td>b Georgian TV reporter shot by Russian sniper ...</td>\n",
              "      <td>b Saudi Arabia  Mother moves to block child ma...</td>\n",
              "      <td>b Taliban wages war on humanitarian aid workers</td>\n",
              "      <td>b Russia  World   can forget about  Georgia  s...</td>\n",
              "      <td>b Darfur rebels accuse Sudan of mounting major...</td>\n",
              "      <td>b Philippines   Peace Advocate say Muslims nee...</td>\n",
              "    </tr>\n",
              "  </tbody>\n",
              "</table>\n",
              "</div>"
            ],
            "text/plain": [
              "                                                   0  ...                                                 24\n",
              "0  b Georgia  downs two Russian warplanes  as cou...  ...           b No Help for Mexico s Kidnapping Surge \n",
              "1  b Why wont America and Nato help us  If they w...  ...  b So this is what it s come to  trading sex fo...\n",
              "2  b Remember that adorable   year old who sang a...  ...  b BBC NEWS   Asia Pacific   Extinction  by man...\n",
              "3  b  U S  refuses Israel weapons to attack Iran ...  ...  b       Nobel laureate Aleksander Solzhenitsyn...\n",
              "4  b All the experts admit that we should legalis...  ...  b Philippines   Peace Advocate say Muslims nee...\n",
              "\n",
              "[5 rows x 25 columns]"
            ]
          },
          "metadata": {
            "tags": []
          },
          "execution_count": 30
        }
      ]
    },
    {
      "cell_type": "code",
      "metadata": {
        "colab": {
          "base_uri": "https://localhost:8080/",
          "height": 240
        },
        "id": "jdB27St2Uw0n",
        "outputId": "ea9359d0-14ce-4473-d047-bf9f4f577961"
      },
      "source": [
        "for index in new_Index:\n",
        "    data[index]=data[index].str.lower()\n",
        "data.head(1)"
      ],
      "execution_count": 31,
      "outputs": [
        {
          "output_type": "execute_result",
          "data": {
            "text/html": [
              "<div>\n",
              "<style scoped>\n",
              "    .dataframe tbody tr th:only-of-type {\n",
              "        vertical-align: middle;\n",
              "    }\n",
              "\n",
              "    .dataframe tbody tr th {\n",
              "        vertical-align: top;\n",
              "    }\n",
              "\n",
              "    .dataframe thead th {\n",
              "        text-align: right;\n",
              "    }\n",
              "</style>\n",
              "<table border=\"1\" class=\"dataframe\">\n",
              "  <thead>\n",
              "    <tr style=\"text-align: right;\">\n",
              "      <th></th>\n",
              "      <th>0</th>\n",
              "      <th>1</th>\n",
              "      <th>2</th>\n",
              "      <th>3</th>\n",
              "      <th>4</th>\n",
              "      <th>5</th>\n",
              "      <th>6</th>\n",
              "      <th>7</th>\n",
              "      <th>8</th>\n",
              "      <th>9</th>\n",
              "      <th>10</th>\n",
              "      <th>11</th>\n",
              "      <th>12</th>\n",
              "      <th>13</th>\n",
              "      <th>14</th>\n",
              "      <th>15</th>\n",
              "      <th>16</th>\n",
              "      <th>17</th>\n",
              "      <th>18</th>\n",
              "      <th>19</th>\n",
              "      <th>20</th>\n",
              "      <th>21</th>\n",
              "      <th>22</th>\n",
              "      <th>23</th>\n",
              "      <th>24</th>\n",
              "    </tr>\n",
              "  </thead>\n",
              "  <tbody>\n",
              "    <tr>\n",
              "      <th>0</th>\n",
              "      <td>b georgia  downs two russian warplanes  as cou...</td>\n",
              "      <td>b breaking  musharraf to be impeached</td>\n",
              "      <td>b russia today  columns of troops roll into so...</td>\n",
              "      <td>b russian tanks are moving towards the capital...</td>\n",
              "      <td>b afghan children raped with  impunity   u n  ...</td>\n",
              "      <td>b     russian tanks have entered south ossetia...</td>\n",
              "      <td>b breaking  georgia invades south ossetia  rus...</td>\n",
              "      <td>b the  enemy combatent  trials are nothing but...</td>\n",
              "      <td>b georgian troops retreat from s  osettain cap...</td>\n",
              "      <td>b did the u s  prep georgia for war with russia</td>\n",
              "      <td>b rice gives green light for israel to attack ...</td>\n",
              "      <td>b announcing class action lawsuit on behalf of...</td>\n",
              "      <td>b so   russia and georgia are at war and the n...</td>\n",
              "      <td>b china tells bush to stay out of other countr...</td>\n",
              "      <td>b did world war iii start today</td>\n",
              "      <td>b georgia invades south ossetia   if russia ge...</td>\n",
              "      <td>b al qaeda faces islamist backlash</td>\n",
              "      <td>b condoleezza rice   the us would not act to p...</td>\n",
              "      <td>b this is a busy day   the european union has ...</td>\n",
              "      <td>b georgia will withdraw       soldiers from ir...</td>\n",
              "      <td>b why the pentagon thinks attacking iran is a ...</td>\n",
              "      <td>b caucasus in crisis  georgia invades south os...</td>\n",
              "      <td>b indian shoe manufactory    and again in a se...</td>\n",
              "      <td>b visitors suffering from mental illnesses ban...</td>\n",
              "      <td>b no help for mexico s kidnapping surge</td>\n",
              "    </tr>\n",
              "  </tbody>\n",
              "</table>\n",
              "</div>"
            ],
            "text/plain": [
              "                                                   0  ...                                        24\n",
              "0  b georgia  downs two russian warplanes  as cou...  ...  b no help for mexico s kidnapping surge \n",
              "\n",
              "[1 rows x 25 columns]"
            ]
          },
          "metadata": {
            "tags": []
          },
          "execution_count": 31
        }
      ]
    },
    {
      "cell_type": "code",
      "metadata": {
        "colab": {
          "base_uri": "https://localhost:8080/",
          "height": 695
        },
        "id": "salNFnzaVO0w",
        "outputId": "6dc7ef78-ad38-4d82-e31b-66323f372fab"
      },
      "source": [
        "data.head()"
      ],
      "execution_count": 32,
      "outputs": [
        {
          "output_type": "execute_result",
          "data": {
            "text/html": [
              "<div>\n",
              "<style scoped>\n",
              "    .dataframe tbody tr th:only-of-type {\n",
              "        vertical-align: middle;\n",
              "    }\n",
              "\n",
              "    .dataframe tbody tr th {\n",
              "        vertical-align: top;\n",
              "    }\n",
              "\n",
              "    .dataframe thead th {\n",
              "        text-align: right;\n",
              "    }\n",
              "</style>\n",
              "<table border=\"1\" class=\"dataframe\">\n",
              "  <thead>\n",
              "    <tr style=\"text-align: right;\">\n",
              "      <th></th>\n",
              "      <th>0</th>\n",
              "      <th>1</th>\n",
              "      <th>2</th>\n",
              "      <th>3</th>\n",
              "      <th>4</th>\n",
              "      <th>5</th>\n",
              "      <th>6</th>\n",
              "      <th>7</th>\n",
              "      <th>8</th>\n",
              "      <th>9</th>\n",
              "      <th>10</th>\n",
              "      <th>11</th>\n",
              "      <th>12</th>\n",
              "      <th>13</th>\n",
              "      <th>14</th>\n",
              "      <th>15</th>\n",
              "      <th>16</th>\n",
              "      <th>17</th>\n",
              "      <th>18</th>\n",
              "      <th>19</th>\n",
              "      <th>20</th>\n",
              "      <th>21</th>\n",
              "      <th>22</th>\n",
              "      <th>23</th>\n",
              "      <th>24</th>\n",
              "    </tr>\n",
              "  </thead>\n",
              "  <tbody>\n",
              "    <tr>\n",
              "      <th>0</th>\n",
              "      <td>b georgia  downs two russian warplanes  as cou...</td>\n",
              "      <td>b breaking  musharraf to be impeached</td>\n",
              "      <td>b russia today  columns of troops roll into so...</td>\n",
              "      <td>b russian tanks are moving towards the capital...</td>\n",
              "      <td>b afghan children raped with  impunity   u n  ...</td>\n",
              "      <td>b     russian tanks have entered south ossetia...</td>\n",
              "      <td>b breaking  georgia invades south ossetia  rus...</td>\n",
              "      <td>b the  enemy combatent  trials are nothing but...</td>\n",
              "      <td>b georgian troops retreat from s  osettain cap...</td>\n",
              "      <td>b did the u s  prep georgia for war with russia</td>\n",
              "      <td>b rice gives green light for israel to attack ...</td>\n",
              "      <td>b announcing class action lawsuit on behalf of...</td>\n",
              "      <td>b so   russia and georgia are at war and the n...</td>\n",
              "      <td>b china tells bush to stay out of other countr...</td>\n",
              "      <td>b did world war iii start today</td>\n",
              "      <td>b georgia invades south ossetia   if russia ge...</td>\n",
              "      <td>b al qaeda faces islamist backlash</td>\n",
              "      <td>b condoleezza rice   the us would not act to p...</td>\n",
              "      <td>b this is a busy day   the european union has ...</td>\n",
              "      <td>b georgia will withdraw       soldiers from ir...</td>\n",
              "      <td>b why the pentagon thinks attacking iran is a ...</td>\n",
              "      <td>b caucasus in crisis  georgia invades south os...</td>\n",
              "      <td>b indian shoe manufactory    and again in a se...</td>\n",
              "      <td>b visitors suffering from mental illnesses ban...</td>\n",
              "      <td>b no help for mexico s kidnapping surge</td>\n",
              "    </tr>\n",
              "    <tr>\n",
              "      <th>1</th>\n",
              "      <td>b why wont america and nato help us  if they w...</td>\n",
              "      <td>b bush puts foot down on georgian conflict</td>\n",
              "      <td>b jewish georgian minister  thanks to israeli ...</td>\n",
              "      <td>b georgian army flees in disarray as russians ...</td>\n",
              "      <td>b olympic opening ceremony fireworks  faked</td>\n",
              "      <td>b what were the mossad with fraudulent new zea...</td>\n",
              "      <td>b russia angered by israeli military sale to g...</td>\n",
              "      <td>b an american citizen living in s ossetia blam...</td>\n",
              "      <td>b welcome to world war iv  now in high definit...</td>\n",
              "      <td>b georgia s move  a mistake of monumental prop...</td>\n",
              "      <td>b russia presses deeper into georgia  u s  say...</td>\n",
              "      <td>b abhinav bindra wins first ever individual ol...</td>\n",
              "      <td>b  u s  ship heads for arctic to define territ...</td>\n",
              "      <td>b drivers in a jerusalem taxi station threaten...</td>\n",
              "      <td>b the french team is stunned by phelps and the...</td>\n",
              "      <td>b israel and the us behind the georgian aggres...</td>\n",
              "      <td>b  do not believe tv  neither russian nor geor...</td>\n",
              "      <td>b riots are still going on in montreal  canada...</td>\n",
              "      <td>b china to overtake us as largest manufacturer</td>\n",
              "      <td>b war in south ossetia  pics</td>\n",
              "      <td>b israeli physicians group condemns state tort...</td>\n",
              "      <td>b  russia has just beaten the united states ov...</td>\n",
              "      <td>b perhaps  the  question about the georgia   r...</td>\n",
              "      <td>b russia is so much better at war</td>\n",
              "      <td>b so this is what it s come to  trading sex fo...</td>\n",
              "    </tr>\n",
              "    <tr>\n",
              "      <th>2</th>\n",
              "      <td>b remember that adorable   year old who sang a...</td>\n",
              "      <td>b russia  ends georgia operation</td>\n",
              "      <td>b  if we had no sexual harassment we would hav...</td>\n",
              "      <td>b al qa eda is losing support in iraq because ...</td>\n",
              "      <td>b ceasefire in georgia  putin outmaneuvers the...</td>\n",
              "      <td>b why microsoft and intel tried to kill the xo...</td>\n",
              "      <td>b stratfor  the russo georgian war and the bal...</td>\n",
              "      <td>b i m trying to get a sense of this whole geor...</td>\n",
              "      <td>b the us military was surprised by the timing ...</td>\n",
              "      <td>b u s  beats war drum as iran dumps the dollar</td>\n",
              "      <td>b gorbachev   georgian military attacked the s...</td>\n",
              "      <td>b cnn use footage of tskhinvali ruins to cover...</td>\n",
              "      <td>b beginning a war as the olympics were opening...</td>\n",
              "      <td>b    pyramids as large as the luxor stacked in...</td>\n",
              "      <td>b the    top party cities in the world</td>\n",
              "      <td>b u s  troops still in georgia  did you know t...</td>\n",
              "      <td>b why russias response to georgia was right</td>\n",
              "      <td>b gorbachev accuses u s  of making a  serious ...</td>\n",
              "      <td>b russia  georgia  and nato  cold war two</td>\n",
              "      <td>b remember that adorable    year old who led y...</td>\n",
              "      <td>b war in georgia  the israeli connection</td>\n",
              "      <td>b all signs point to the us encouraging georgi...</td>\n",
              "      <td>b christopher king argues that the us and nato...</td>\n",
              "      <td>b america  the new mexico</td>\n",
              "      <td>b bbc news   asia pacific   extinction  by man...</td>\n",
              "    </tr>\n",
              "    <tr>\n",
              "      <th>3</th>\n",
              "      <td>b  u s  refuses israel weapons to attack iran ...</td>\n",
              "      <td>b when the president ordered to attack tskhinv...</td>\n",
              "      <td>b  israel clears troops who killed reuters cam...</td>\n",
              "      <td>b britain  s policy of being tough on drugs is...</td>\n",
              "      <td>b body of    year old found in trunk  latest  ...</td>\n",
              "      <td>b china has moved     million  quake survivors...</td>\n",
              "      <td>b bush announces operation get all up in russi...</td>\n",
              "      <td>b russian forces sink georgian ships</td>\n",
              "      <td>b the commander of a navy air reconnaissance s...</td>\n",
              "      <td>b     of cnn readers  russia s actions in geor...</td>\n",
              "      <td>b usa to send fleet into black sea to help geo...</td>\n",
              "      <td>b us warns against israeli plan to strike agai...</td>\n",
              "      <td>b in an intriguing cyberalliance  two estonian...</td>\n",
              "      <td>b the cnn effect  georgia schools russia in in...</td>\n",
              "      <td>b why russias response to georgia was right</td>\n",
              "      <td>b elephants extinct by</td>\n",
              "      <td>b us humanitarian missions soon in georgia   i...</td>\n",
              "      <td>b georgia s ddos came from us sources</td>\n",
              "      <td>b russian convoy heads into georgia  violating...</td>\n",
              "      <td>b israeli defence minister  us against strike ...</td>\n",
              "      <td>b gorbachev  we had no choice</td>\n",
              "      <td>b witness  russian forces head towards tbilisi...</td>\n",
              "      <td>b  quarter of russians blame u s  for conflict...</td>\n",
              "      <td>b georgian president  says us military will ta...</td>\n",
              "      <td>b       nobel laureate aleksander solzhenitsyn...</td>\n",
              "    </tr>\n",
              "    <tr>\n",
              "      <th>4</th>\n",
              "      <td>b all the experts admit that we should legalis...</td>\n",
              "      <td>b war in south osetia      pictures made by a ...</td>\n",
              "      <td>b swedish wrestler ara abrahamian throws away ...</td>\n",
              "      <td>b russia exaggerated the death toll in south o...</td>\n",
              "      <td>b missile that killed   inside pakistan may ha...</td>\n",
              "      <td>b rushdie condemns random house s refusal to p...</td>\n",
              "      <td>b poland and us agree to missle defense deal  ...</td>\n",
              "      <td>b will the russians conquer tblisi  bet on it ...</td>\n",
              "      <td>b russia exaggerating south ossetian death tol...</td>\n",
              "      <td>b  musharraf expected to resign rather than fa...</td>\n",
              "      <td>b moscow made plans months ago to invade georgia</td>\n",
              "      <td>b why russias response to georgia was right</td>\n",
              "      <td>b nigeria has handed over the potentially oil ...</td>\n",
              "      <td>b the us and poland have agreed a preliminary ...</td>\n",
              "      <td>b russia apparently is sabotaging infrastructu...</td>\n",
              "      <td>b bank analyst forecast georgian crisis   days...</td>\n",
              "      <td>b georgia confict could set back russia s us r...</td>\n",
              "      <td>b war in the caucasus is as much the product o...</td>\n",
              "      <td>b  non media  photos of south ossetia georgia ...</td>\n",
              "      <td>b georgian tv reporter shot by russian sniper ...</td>\n",
              "      <td>b saudi arabia  mother moves to block child ma...</td>\n",
              "      <td>b taliban wages war on humanitarian aid workers</td>\n",
              "      <td>b russia  world   can forget about  georgia  s...</td>\n",
              "      <td>b darfur rebels accuse sudan of mounting major...</td>\n",
              "      <td>b philippines   peace advocate say muslims nee...</td>\n",
              "    </tr>\n",
              "  </tbody>\n",
              "</table>\n",
              "</div>"
            ],
            "text/plain": [
              "                                                   0  ...                                                 24\n",
              "0  b georgia  downs two russian warplanes  as cou...  ...           b no help for mexico s kidnapping surge \n",
              "1  b why wont america and nato help us  if they w...  ...  b so this is what it s come to  trading sex fo...\n",
              "2  b remember that adorable   year old who sang a...  ...  b bbc news   asia pacific   extinction  by man...\n",
              "3  b  u s  refuses israel weapons to attack iran ...  ...  b       nobel laureate aleksander solzhenitsyn...\n",
              "4  b all the experts admit that we should legalis...  ...  b philippines   peace advocate say muslims nee...\n",
              "\n",
              "[5 rows x 25 columns]"
            ]
          },
          "metadata": {
            "tags": []
          },
          "execution_count": 32
        }
      ]
    },
    {
      "cell_type": "code",
      "metadata": {
        "id": "fjjVmWDpVlTK"
      },
      "source": [
        "headlines=[]\n",
        "for row in range(0,len(data.index)):\n",
        "    headlines.append(' '.join(str(x) for x in data.iloc[row,0:25]))"
      ],
      "execution_count": 33,
      "outputs": []
    },
    {
      "cell_type": "markdown",
      "metadata": {
        "id": "StKTdPdFV27l"
      },
      "source": [
        "## Random Forest Classifier with CountVectorizer"
      ]
    },
    {
      "cell_type": "code",
      "metadata": {
        "colab": {
          "base_uri": "https://localhost:8080/"
        },
        "id": "eWD45DfsVNcF",
        "outputId": "3ebedf4c-d25e-4c35-f64b-abbeea8aa1ac"
      },
      "source": [
        "from sklearn.feature_extraction.text import CountVectorizer\n",
        "from sklearn.ensemble import RandomForestClassifier\n",
        "\n",
        "countvector= CountVectorizer(ngram_range=(2,2))\n",
        "traindataset= countvector.fit_transform(headlines) # CONVERTING ALL THE HEADLINES INTO VECTORS\n",
        "\n",
        "random_classifier= RandomForestClassifier(n_estimators=200,criterion='entropy')\n",
        "random_classifier.fit(traindataset,train['Label'])\n",
        "\n",
        "test_transform=[]\n",
        "for row in range(0,len(test.index)):\n",
        "    test_transform.append(' '.join(str(x) for x in test.iloc[row,2:27]))\n",
        "test_dataset= countvector.transform(test_transform)\n",
        "predictions= random_classifier.predict(test_dataset)\n",
        "\n",
        "matrix= confusion_matrix(test[\"Label\"],predictions)\n",
        "print(matrix)\n",
        "score= accuracy_score(test[\"Label\"],predictions)\n",
        "print(score)\n",
        "report= classification_report(test['Label'],predictions)\n",
        "print(report)\n",
        "\n",
        "example_3 = \"Apple Stock Is Falling Again. Why That’s Not a Problem for the Dow.\"\n",
        "example_3 = countvector.transform([example_3])\n",
        "print(random_classifier.predict(example_3))\n",
        "print(random_classifier.predict_proba(example_3))"
      ],
      "execution_count": 34,
      "outputs": [
        {
          "output_type": "stream",
          "text": [
            "[[  2 184]\n",
            " [  4 188]]\n",
            "0.5026455026455027\n",
            "              precision    recall  f1-score   support\n",
            "\n",
            "           0       0.33      0.01      0.02       186\n",
            "           1       0.51      0.98      0.67       192\n",
            "\n",
            "    accuracy                           0.50       378\n",
            "   macro avg       0.42      0.49      0.34       378\n",
            "weighted avg       0.42      0.50      0.35       378\n",
            "\n",
            "[1]\n",
            "[[0.09 0.91]]\n"
          ],
          "name": "stdout"
        }
      ]
    },
    {
      "cell_type": "code",
      "metadata": {
        "colab": {
          "base_uri": "https://localhost:8080/"
        },
        "id": "1CV8DobTYLJN",
        "outputId": "a6105fff-8baf-49a8-b180-124aa5eefa0e"
      },
      "source": [
        "example_3 = \"Apple Stock Is Falling Again. Why That’s Not a Problem for the Dow.\"\n",
        "example_3 = countvector.transform([example_3])\n",
        "print(random_classifier.predict(example_3))\n",
        "print(random_classifier.predict_proba(example_3))"
      ],
      "execution_count": 35,
      "outputs": [
        {
          "output_type": "stream",
          "text": [
            "[1]\n",
            "[[0.09 0.91]]\n"
          ],
          "name": "stdout"
        }
      ]
    },
    {
      "cell_type": "markdown",
      "metadata": {
        "id": "x2HF-8R9W8AB"
      },
      "source": [
        "## Random Forest Classifier with TfidfVectorizer"
      ]
    },
    {
      "cell_type": "code",
      "metadata": {
        "colab": {
          "base_uri": "https://localhost:8080/"
        },
        "id": "5cG9j05jWGCY",
        "outputId": "7f1f39c2-9bb2-4288-9531-226db9f5c830"
      },
      "source": [
        "from sklearn.feature_extraction.text import TfidfVectorizer\n",
        "from sklearn.ensemble import RandomForestClassifier\n",
        "\n",
        "## IMPLEMENTING TF-IDF VECTORIZER\n",
        "tfidf= TfidfVectorizer(ngram_range=(2,2))\n",
        "traindataset= tfidf.fit_transform(headlines) \n",
        "\n",
        "random_classifier= RandomForestClassifier(n_estimators=200,criterion='entropy')\n",
        "random_classifier.fit(traindataset,train['Label'])\n",
        "\n",
        "test_transform=[]\n",
        "for row in range(0,len(test.index)):\n",
        "    test_transform.append(' '.join(str(x) for x in test.iloc[row,2:27]))\n",
        "test_dataset= tfidf.transform(test_transform)\n",
        "predictions= random_classifier.predict(test_dataset)\n",
        "\n",
        "matrix= confusion_matrix(test[\"Label\"],predictions)\n",
        "print(matrix)\n",
        "score= accuracy_score(test[\"Label\"],predictions)\n",
        "print(score)\n",
        "report= classification_report(test['Label'],predictions)\n",
        "print(report)\n",
        "\n",
        "example_3 = \"Apple Stock Is Falling Again. Why That’s Not a Problem for the Dow.\"\n",
        "example_3 = tfidf.transform([example_3])\n",
        "print(random_classifier.predict(example_3))\n",
        "print(random_classifier.predict_proba(example_3))"
      ],
      "execution_count": 36,
      "outputs": [
        {
          "output_type": "stream",
          "text": [
            "[[ 63 123]\n",
            " [ 55 137]]\n",
            "0.5291005291005291\n",
            "              precision    recall  f1-score   support\n",
            "\n",
            "           0       0.53      0.34      0.41       186\n",
            "           1       0.53      0.71      0.61       192\n",
            "\n",
            "    accuracy                           0.53       378\n",
            "   macro avg       0.53      0.53      0.51       378\n",
            "weighted avg       0.53      0.53      0.51       378\n",
            "\n",
            "[1]\n",
            "[[0.205 0.795]]\n"
          ],
          "name": "stdout"
        }
      ]
    },
    {
      "cell_type": "markdown",
      "metadata": {
        "id": "BhcKsM6LXUb6"
      },
      "source": [
        "## NaiveNaive Bayes"
      ]
    },
    {
      "cell_type": "code",
      "metadata": {
        "colab": {
          "base_uri": "https://localhost:8080/"
        },
        "id": "c17ydst3WXI0",
        "outputId": "da556a5c-de2a-4285-b823-ff6e683351aa"
      },
      "source": [
        "from sklearn.naive_bayes import MultinomialNB\n",
        "naive= MultinomialNB()\n",
        "\n",
        "tfidf= TfidfVectorizer(ngram_range=(2,2))\n",
        "traindataset= tfidf.fit_transform(headlines) \n",
        "\n",
        "naive.fit(traindataset,train['Label'])\n",
        "\n",
        "test_transform=[]\n",
        "for row in range(0,len(test.index)):\n",
        "    test_transform.append(' '.join(str(x) for x in test.iloc[row,2:27]))\n",
        "test_dataset= tfidf.transform(test_transform)\n",
        "predictions= naive.predict(test_dataset)\n",
        "\n",
        "matrix= confusion_matrix(test[\"Label\"],predictions)\n",
        "print(matrix)\n",
        "score= accuracy_score(test[\"Label\"],predictions)\n",
        "print(score)\n",
        "report= classification_report(test['Label'],predictions)\n",
        "print(report)\n",
        "\n",
        "example_3 = \"Apple Stock Is Falling Again. Why That’s Not a Problem for the Dow.\"\n",
        "example_3 = tfidf.transform([example_3])\n",
        "print(naive.predict(example_3))\n",
        "print(naive.predict_proba(example_3))"
      ],
      "execution_count": 37,
      "outputs": [
        {
          "output_type": "stream",
          "text": [
            "[[  0 186]\n",
            " [  0 192]]\n",
            "0.5079365079365079\n",
            "              precision    recall  f1-score   support\n",
            "\n",
            "           0       0.00      0.00      0.00       186\n",
            "           1       0.51      1.00      0.67       192\n",
            "\n",
            "    accuracy                           0.51       378\n",
            "   macro avg       0.25      0.50      0.34       378\n",
            "weighted avg       0.26      0.51      0.34       378\n",
            "\n",
            "[1]\n",
            "[[0.46626189 0.53373811]]\n"
          ],
          "name": "stdout"
        },
        {
          "output_type": "stream",
          "text": [
            "/usr/local/lib/python3.7/dist-packages/sklearn/metrics/_classification.py:1272: UndefinedMetricWarning: Precision and F-score are ill-defined and being set to 0.0 in labels with no predicted samples. Use `zero_division` parameter to control this behavior.\n",
            "  _warn_prf(average, modifier, msg_start, len(result))\n"
          ],
          "name": "stderr"
        }
      ]
    },
    {
      "cell_type": "markdown",
      "metadata": {
        "id": "YGpCbXuI-loU"
      },
      "source": [
        "## SVM"
      ]
    },
    {
      "cell_type": "code",
      "metadata": {
        "colab": {
          "base_uri": "https://localhost:8080/"
        },
        "id": "C3gaaG_f-gc6",
        "outputId": "3708bcd3-7aee-4d12-f212-ec2e88157c33"
      },
      "source": [
        "from sklearn.svm import SVC\n",
        "\n",
        "tfidf= TfidfVectorizer()\n",
        "traindataset= tfidf.fit_transform(headlines) \n",
        "\n",
        "svc = SVC(probability=True, kernel='rbf')\n",
        "svc.fit(traindataset,train['Label'])\n",
        "\n",
        "test_transform=[]\n",
        "for row in range(0,len(test.index)):\n",
        "    test_transform.append(' '.join(str(x) for x in test.iloc[row,2:27]))\n",
        "test_dataset= tfidf.transform(test_transform)\n",
        "predictions= svc.predict(test_dataset)\n",
        "\n",
        "matrix= confusion_matrix(test[\"Label\"],predictions)\n",
        "print(matrix)\n",
        "score= accuracy_score(test[\"Label\"],predictions)\n",
        "print(score)\n",
        "report= classification_report(test['Label'],predictions)\n",
        "print(report)\n",
        "\n",
        "example_3 = \"Apple Stock Is Falling Again. Why That’s Not a Problem for the Dow.\"\n",
        "example_3 = tfidf.transform([example_3])\n",
        "print(svc.predict(example_3))\n",
        "print(svc.predict_proba(example_3))"
      ],
      "execution_count": 38,
      "outputs": [
        {
          "output_type": "stream",
          "text": [
            "[[  0 186]\n",
            " [  0 192]]\n",
            "0.5079365079365079\n",
            "              precision    recall  f1-score   support\n",
            "\n",
            "           0       0.00      0.00      0.00       186\n",
            "           1       0.51      1.00      0.67       192\n",
            "\n",
            "    accuracy                           0.51       378\n",
            "   macro avg       0.25      0.50      0.34       378\n",
            "weighted avg       0.26      0.51      0.34       378\n",
            "\n",
            "[0]\n",
            "[[0.4391908 0.5608092]]\n"
          ],
          "name": "stdout"
        },
        {
          "output_type": "stream",
          "text": [
            "/usr/local/lib/python3.7/dist-packages/sklearn/metrics/_classification.py:1272: UndefinedMetricWarning: Precision and F-score are ill-defined and being set to 0.0 in labels with no predicted samples. Use `zero_division` parameter to control this behavior.\n",
            "  _warn_prf(average, modifier, msg_start, len(result))\n"
          ],
          "name": "stderr"
        }
      ]
    },
    {
      "cell_type": "code",
      "metadata": {
        "colab": {
          "base_uri": "https://localhost:8080/"
        },
        "id": "PXO5y5gkD9EO",
        "outputId": "5a1648a1-b2d0-44fe-eedd-abd4b13365b4"
      },
      "source": [
        "example_3 = \"Investors are selling Tesla\"\n",
        "example_3 = tfidf.transform([example_3])\n",
        "print(svc.predict(example_3))\n",
        "print(svc.predict_proba(example_3))"
      ],
      "execution_count": 39,
      "outputs": [
        {
          "output_type": "stream",
          "text": [
            "[1]\n",
            "[[0.45570922 0.54429078]]\n"
          ],
          "name": "stdout"
        }
      ]
    },
    {
      "cell_type": "markdown",
      "metadata": {
        "id": "6Q_XPdv2g4Sk"
      },
      "source": [
        "# SVC trained on another dataset"
      ]
    },
    {
      "cell_type": "code",
      "metadata": {
        "colab": {
          "base_uri": "https://localhost:8080/"
        },
        "id": "yHJA4UflhrdV",
        "outputId": "337c0136-298c-4d9b-a51f-1365b77c156a"
      },
      "source": [
        "from nltk.corpus import stopwords\n",
        "from nltk.tokenize import word_tokenize,sent_tokenize\n",
        "from string import punctuation\n",
        "from sklearn.model_selection import train_test_split\n",
        "import nltk\n",
        "import pandas as pd\n",
        "nltk.download('averaged_perceptron_tagger')\n",
        "nltk.download('stopwords')\n",
        "nltk.download('punkt')\n",
        "nltk.download('wordnet')\n",
        "\n",
        "from sklearn.svm import SVC"
      ],
      "execution_count": 40,
      "outputs": [
        {
          "output_type": "stream",
          "text": [
            "[nltk_data] Downloading package averaged_perceptron_tagger to\n",
            "[nltk_data]     /root/nltk_data...\n",
            "[nltk_data]   Unzipping taggers/averaged_perceptron_tagger.zip.\n",
            "[nltk_data] Downloading package stopwords to /root/nltk_data...\n",
            "[nltk_data]   Package stopwords is already up-to-date!\n",
            "[nltk_data] Downloading package punkt to /root/nltk_data...\n",
            "[nltk_data]   Package punkt is already up-to-date!\n",
            "[nltk_data] Downloading package wordnet to /root/nltk_data...\n",
            "[nltk_data]   Unzipping corpora/wordnet.zip.\n"
          ],
          "name": "stdout"
        }
      ]
    },
    {
      "cell_type": "code",
      "metadata": {
        "colab": {
          "base_uri": "https://localhost:8080/",
          "height": 206
        },
        "id": "vrPxYHnghInN",
        "outputId": "a8c5c95e-dc39-4f48-b54a-3b631e559d11"
      },
      "source": [
        "data = pd.read_csv('all-data.csv', encoding='latin-1', names=['sentiment', 'text'])\n",
        "data.head()"
      ],
      "execution_count": 41,
      "outputs": [
        {
          "output_type": "execute_result",
          "data": {
            "text/html": [
              "<div>\n",
              "<style scoped>\n",
              "    .dataframe tbody tr th:only-of-type {\n",
              "        vertical-align: middle;\n",
              "    }\n",
              "\n",
              "    .dataframe tbody tr th {\n",
              "        vertical-align: top;\n",
              "    }\n",
              "\n",
              "    .dataframe thead th {\n",
              "        text-align: right;\n",
              "    }\n",
              "</style>\n",
              "<table border=\"1\" class=\"dataframe\">\n",
              "  <thead>\n",
              "    <tr style=\"text-align: right;\">\n",
              "      <th></th>\n",
              "      <th>sentiment</th>\n",
              "      <th>text</th>\n",
              "    </tr>\n",
              "  </thead>\n",
              "  <tbody>\n",
              "    <tr>\n",
              "      <th>0</th>\n",
              "      <td>neutral</td>\n",
              "      <td>According to Gran , the company has no plans t...</td>\n",
              "    </tr>\n",
              "    <tr>\n",
              "      <th>1</th>\n",
              "      <td>neutral</td>\n",
              "      <td>Technopolis plans to develop in stages an area...</td>\n",
              "    </tr>\n",
              "    <tr>\n",
              "      <th>2</th>\n",
              "      <td>negative</td>\n",
              "      <td>The international electronic industry company ...</td>\n",
              "    </tr>\n",
              "    <tr>\n",
              "      <th>3</th>\n",
              "      <td>positive</td>\n",
              "      <td>With the new production plant the company woul...</td>\n",
              "    </tr>\n",
              "    <tr>\n",
              "      <th>4</th>\n",
              "      <td>positive</td>\n",
              "      <td>According to the company 's updated strategy f...</td>\n",
              "    </tr>\n",
              "  </tbody>\n",
              "</table>\n",
              "</div>"
            ],
            "text/plain": [
              "  sentiment                                               text\n",
              "0   neutral  According to Gran , the company has no plans t...\n",
              "1   neutral  Technopolis plans to develop in stages an area...\n",
              "2  negative  The international electronic industry company ...\n",
              "3  positive  With the new production plant the company woul...\n",
              "4  positive  According to the company 's updated strategy f..."
            ]
          },
          "metadata": {
            "tags": []
          },
          "execution_count": 41
        }
      ]
    },
    {
      "cell_type": "code",
      "metadata": {
        "id": "X0MAm7j14e85"
      },
      "source": [
        "from bs4 import BeautifulSoup\n",
        "import re\n",
        "def cleanText(text):\n",
        "    text = BeautifulSoup(text, \"lxml\").text\n",
        "    text = re.sub(r'\\|\\|\\|', r' ', text) \n",
        "    text = re.sub(r'http\\S+', r'<URL>', text)\n",
        "    text = text.lower()\n",
        "    text = text.replace('x', '')\n",
        "\n",
        "    clean_text = []\n",
        "    for w in word_tokenize(text):\n",
        "        if w.lower() not in stop:\n",
        "            clean_text.append(w)\n",
        "    return clean_text\n"
      ],
      "execution_count": 42,
      "outputs": []
    },
    {
      "cell_type": "code",
      "metadata": {
        "colab": {
          "base_uri": "https://localhost:8080/"
        },
        "id": "JQqxfFdchuzj",
        "outputId": "7c3b7ee1-ec4d-4320-c3d8-33595a5c0cfd"
      },
      "source": [
        "# making list stopwords for removing stopwords from our text \n",
        "stop = set(stopwords.words('english'))\n",
        "stop.update(punctuation)\n",
        "print(stop)"
      ],
      "execution_count": 43,
      "outputs": [
        {
          "output_type": "stream",
          "text": [
            "{'all', '{', 'theirs', 'just', 'couldn', 'isn', 'our', 'same', 'as', 'not', 'having', '<', 'against', 'on', '}', 'out', 'it', 'itself', 'ma', 'at', 'she', '$', 'myself', 'because', 'nor', \"hasn't\", 'weren', \"don't\", \"wasn't\", \"couldn't\", 'during', 'no', 'both', 'only', 'more', 'm', 'an', 'through', '=', 'from', '.', 'these', 'wouldn', '(', 're', '+', \"needn't\", '[', '#', 'off', 'yourself', 'her', 'by', 'so', 's', \"haven't\", 'very', 'if', 'shouldn', 'under', 'have', 'am', 'a', 'when', \"you'd\", 'll', 'did', 'up', 'my', ':', 'had', 'once', 'him', 'his', 'which', 'into', 'over', 'didn', 'but', \"mustn't\", '&', 'each', 'them', 'most', 'were', 'shan', ',', 'such', 'hers', 'that', \"that'll\", 'aren', 'some', \"won't\", 'be', 'been', 'you', 'down', 'this', 'mustn', '|', 'yours', \"you'll\", \"wouldn't\", 'how', 'was', 'd', 'i', \"didn't\", 'where', 'for', 'in', '~', \"she's\", '-', ')', \"shan't\", 'too', 'the', 'to', \"you've\", 've', 'ours', 'doesn', 'between', 'doing', '%', 'what', ']', 'does', 'then', \"doesn't\", '\"', 'your', 'of', 'don', 'until', 'with', 'before', '_', 'than', 'who', 'after', 'below', 'they', 'any', 'needn', '/', 'few', 'o', 'herself', 'those', 'haven', 'there', 'we', 'yourselves', \"weren't\", \"should've\", 'are', 'or', 'he', '\\\\', 'whom', 'about', ';', 'and', 'ourselves', \"aren't\", 'hadn', 'should', 'now', 'themselves', 'himself', 'own', 'will', \"mightn't\", '^', 'while', 'won', 'do', '@', 'y', '`', \"isn't\", \"you're\", 'has', 'wasn', \"'\", 'hasn', 'further', 'their', 'can', 'again', 'here', '!', 'is', '*', 'ain', 'mightn', 'me', 'other', \"shouldn't\", 't', 'why', \"it's\", '>', 'above', 'being', 'its', \"hadn't\", '?'}\n"
          ],
          "name": "stdout"
        }
      ]
    },
    {
      "cell_type": "code",
      "metadata": {
        "id": "PNd-zdTah8cT"
      },
      "source": [
        "def join_text(text):\n",
        "    return \" \".join(text)"
      ],
      "execution_count": 44,
      "outputs": []
    },
    {
      "cell_type": "code",
      "metadata": {
        "id": "0WtBUVZNh_oe"
      },
      "source": [
        "data.text = data.text.apply(cleanText)\n",
        "data.text = data.text.apply(join_text)"
      ],
      "execution_count": 45,
      "outputs": []
    },
    {
      "cell_type": "code",
      "metadata": {
        "id": "YonQoBWLiY7z"
      },
      "source": [
        "# splitting data.\n",
        "x_train,x_test,y_train,y_test = train_test_split(data.text,data.sentiment,test_size = 0.2 , random_state = 0)"
      ],
      "execution_count": 46,
      "outputs": []
    },
    {
      "cell_type": "code",
      "metadata": {
        "id": "TlhNHcPMia3e"
      },
      "source": [
        "pos = x_train[y_train[y_train=='positive'].index]\n",
        "neg = x_train[y_train[y_train=='negative'].index]\n",
        "neutral = x_train[y_train[y_train=='negative'].index]"
      ],
      "execution_count": 47,
      "outputs": []
    },
    {
      "cell_type": "code",
      "metadata": {
        "id": "kUIQve9yipuk"
      },
      "source": [
        "# creating a variable for count vectorizer which gives us features using the whole text of data.\n",
        "count_vec = CountVectorizer(max_features=4000, ngram_range=(1,2), max_df=0.9, min_df=0)\n",
        "# max_df insures to remove most frequent words as we discussed earlier.\n",
        "# ngram_range is used to select words at a time like 1 or 2 like if a sentence have 'not happy' in text then it can mean two things if we pick the word 'happy' and pick the words 'not happy' both."
      ],
      "execution_count": 48,
      "outputs": []
    },
    {
      "cell_type": "code",
      "metadata": {
        "colab": {
          "base_uri": "https://localhost:8080/"
        },
        "id": "_s9pXIszitG-",
        "outputId": "0f23ced5-f8c1-4f4d-9134-d2684af5d04a"
      },
      "source": [
        "x_train_features = count_vec.fit_transform(x_train).todense()\n",
        "x_test_features = count_vec.transform(x_test).todense()\n",
        "x_train_features.shape, x_test_features.shape"
      ],
      "execution_count": 49,
      "outputs": [
        {
          "output_type": "execute_result",
          "data": {
            "text/plain": [
              "((3876, 4000), (970, 4000))"
            ]
          },
          "metadata": {
            "tags": []
          },
          "execution_count": 49
        }
      ]
    },
    {
      "cell_type": "code",
      "metadata": {
        "id": "DtERe-N8jCZu",
        "colab": {
          "base_uri": "https://localhost:8080/"
        },
        "outputId": "1a76a3ee-a2d3-4a79-837c-3b4ae4590502"
      },
      "source": [
        "svc = SVC(probability=True)\n",
        "svc.fit(x_train_features, y_train)\n",
        "y_pred = svc.predict(x_test_features)\n",
        "print(accuracy_score(y_test,y_pred)*100)\n",
        "print(classification_report(y_test, y_pred))"
      ],
      "execution_count": 50,
      "outputs": [
        {
          "output_type": "stream",
          "text": [
            "72.4742268041237\n",
            "              precision    recall  f1-score   support\n",
            "\n",
            "    negative       0.78      0.24      0.37       128\n",
            "     neutral       0.71      0.98      0.82       575\n",
            "    positive       0.80      0.40      0.53       267\n",
            "\n",
            "    accuracy                           0.72       970\n",
            "   macro avg       0.76      0.54      0.58       970\n",
            "weighted avg       0.74      0.72      0.68       970\n",
            "\n"
          ],
          "name": "stdout"
        }
      ]
    },
    {
      "cell_type": "code",
      "metadata": {
        "colab": {
          "base_uri": "https://localhost:8080/"
        },
        "id": "LxsIOtY0oeWk",
        "outputId": "7595d0e4-f354-41b2-a031-6e2dc94fa0f4"
      },
      "source": [
        "print(accuracy_score(y_test,y_pred)*100)\n",
        "print(classification_report(y_test, y_pred))"
      ],
      "execution_count": 51,
      "outputs": [
        {
          "output_type": "stream",
          "text": [
            "72.4742268041237\n",
            "              precision    recall  f1-score   support\n",
            "\n",
            "    negative       0.78      0.24      0.37       128\n",
            "     neutral       0.71      0.98      0.82       575\n",
            "    positive       0.80      0.40      0.53       267\n",
            "\n",
            "    accuracy                           0.72       970\n",
            "   macro avg       0.76      0.54      0.58       970\n",
            "weighted avg       0.74      0.72      0.68       970\n",
            "\n"
          ],
          "name": "stdout"
        }
      ]
    },
    {
      "cell_type": "code",
      "metadata": {
        "colab": {
          "base_uri": "https://localhost:8080/"
        },
        "id": "PWgZMwA3jHce",
        "outputId": "c9ba7f7d-af7e-4756-8238-ec3ae9f13096"
      },
      "source": [
        "example = \"This is fantastic!\"\n",
        "example = cleanText(example)\n",
        "example = join_text(example)\n",
        "print(example)\n",
        "\n",
        "test_news = count_vec.transform([example]).todense()\n",
        "print(svc.predict_proba(test_news))"
      ],
      "execution_count": 52,
      "outputs": [
        {
          "output_type": "stream",
          "text": [
            "fantastic\n",
            "[[0.01499499 0.92977096 0.05523405]]\n"
          ],
          "name": "stdout"
        }
      ]
    },
    {
      "cell_type": "markdown",
      "metadata": {
        "id": "au0J1VTBAZms"
      },
      "source": [
        "## Save the model"
      ]
    },
    {
      "cell_type": "code",
      "metadata": {
        "colab": {
          "base_uri": "https://localhost:8080/"
        },
        "id": "GNNOZAelAcjP",
        "outputId": "2e1d5e26-a909-49c5-93cd-cbc1bc97aad7"
      },
      "source": [
        "pickle.dump(count_vec, open(\"saved_model/count_vector.pickel\", \"wb\"))\n",
        "# save\n",
        "joblib.dump(svc, \"saved_model/svc.pkl\") \n",
        "\n",
        "# load pickle\n",
        "count_vec_loaded = pickle.load(open(\"saved_model/count_vector.pickel\", \"rb\"))\n",
        "\n",
        "# load\n",
        "svc_loaded = joblib.load(\"saved_model/svc.pkl\")\n",
        "\n",
        "example = \"This is fantastic!\"\n",
        "example = cleanText(example)\n",
        "example = join_text(example)\n",
        "print(example)\n",
        "\n",
        "test_news = count_vec_loaded.transform([example]).todense()\n",
        "print(svc_loaded.predict_proba(test_news))"
      ],
      "execution_count": 53,
      "outputs": [
        {
          "output_type": "stream",
          "text": [
            "fantastic\n",
            "[[0.01499499 0.92977096 0.05523405]]\n"
          ],
          "name": "stdout"
        }
      ]
    },
    {
      "cell_type": "code",
      "metadata": {
        "id": "-C9zEdiG-0br"
      },
      "source": [
        "def svc_predict(svc, count_vec, news):\n",
        "    news_processed = cleanText(news)\n",
        "    news_processed = join_text(news_processed)\n",
        "    \n",
        "    test_news = count_vec.transform([news_processed]).todense()\n",
        "    return svc.predict_proba(test_news)"
      ],
      "execution_count": 56,
      "outputs": []
    },
    {
      "cell_type": "markdown",
      "metadata": {
        "id": "HZbzY31ubvfU"
      },
      "source": [
        "# Combine all models together to give the final rating"
      ]
    },
    {
      "cell_type": "code",
      "metadata": {
        "id": "s4rpCI14by6r"
      },
      "source": [
        "def predict_rating(news, lstm, NN):\n",
        "    benchmark_rating = analyser.polarity_scores(news)['compound']\n",
        "    print(f'result from vadar: {benchmark_rating:.2f}')\n",
        "\n",
        "    # Predicted by LSTM model, using padding = True\n",
        "    rating_lstm = sample_predict(news, encoder_loaded, pad=True, model = lstm)[0][0]\n",
        "    print(f'result from lstm: {rating_lstm:.2f}')\n",
        "  \n",
        "    # predicted by NN\n",
        "    rating_NN = predict_sentiment(news, NN)[0][0]\n",
        "    print(f'result from Neural Network: {rating_NN:.2f}')\n",
        "    \n",
        "    # predictd by SVC\n",
        "    rating_svc = svc_predict(svc_loaded, count_vec_loaded, news)[0]\n",
        "    print(f\"result from SVC: positive:{rating_svc[2]:.2f}, neutral:{rating_svc[1]:.2f}, negative:{rating_svc[0]:.2f}\")\n",
        "\n",
        "    if np.argmax(rating_svc) == 2:\n",
        "        # the news is in the positive side\n",
        "        if benchmark_rating >= 0.05 and rating_lstm >=0 and rating_NN >= 0.5:\n",
        "            return \"Strongly Positive\", rating_svc[2]\n",
        "        elif benchmark_rating >= 0.05 or rating_lstm >=0 or rating_NN >= 0.5:\n",
        "            return \"Slightly Positive\", rating_svc[2]\n",
        "        else:\n",
        "            return \"Positive\", rating_svc[2]\n",
        "\n",
        "    elif np.argmax(rating_svc) == 0:\n",
        "        # the news is in the negative side\n",
        "        if benchmark_rating <-0.05 and rating_lstm <0 and rating_NN < 0.5:\n",
        "            return \"Strongly Negative\", rating_svc[0]* -1\n",
        "        elif benchmark_rating <-0.05 or rating_lstm <0 or rating_NN < 0.5:\n",
        "            return \"Slightly Negative\", rating_svc[0] * -1\n",
        "        else:\n",
        "            return \"Negative\", rating_svc[0] * -1\n",
        "\n",
        "    else:\n",
        "        if benchmark_rating < -0.05:\n",
        "            return \"Negative\", rating_svc[0] * -1\n",
        "        if benchmark_rating > 0.05:\n",
        "            return \"Positive\", rating_svc[2]\n",
        "        if rating_svc[1] > 0.7:\n",
        "            return \"Neutral\", rating_svc[1] * 0\n",
        "        else:\n",
        "            if rating_svc[0] > rating_svc[2]:\n",
        "                return \"Slightly Negative\", rating_svc[0] * -1\n",
        "            else:\n",
        "                return \"Slightly Positive\", rating_svc[2]"
      ],
      "execution_count": 57,
      "outputs": []
    },
    {
      "cell_type": "code",
      "metadata": {
        "id": "LntuJBtieSBx",
        "colab": {
          "base_uri": "https://localhost:8080/"
        },
        "outputId": "4200969f-cc2d-42cc-bff3-ee6928b9f3f8"
      },
      "source": [
        "predict_rating(\"Apple Stock Is Falling Again. Why That’s Not a Problem for the Dow.\", lstm, NN)"
      ],
      "execution_count": 58,
      "outputs": [
        {
          "output_type": "stream",
          "text": [
            "result from vadar: -1.00\n",
            "result from lstm: -0.31\n",
            "result from Neural Network: 0.00\n",
            "result from SVC: positive:0.09, neutral:0.89, negative:0.02\n"
          ],
          "name": "stdout"
        },
        {
          "output_type": "execute_result",
          "data": {
            "text/plain": [
              "('Negative', -0.02164393735425806)"
            ]
          },
          "metadata": {
            "tags": []
          },
          "execution_count": 58
        }
      ]
    },
    {
      "cell_type": "code",
      "metadata": {
        "id": "Dw_M-HFQeWYV",
        "colab": {
          "base_uri": "https://localhost:8080/"
        },
        "outputId": "e5566518-a2a7-4597-e52d-a1b6d3586a02"
      },
      "source": [
        "predict_rating(\"Apple Stock displays good prospect in the future, investors highs high\", lstm, NN)"
      ],
      "execution_count": 59,
      "outputs": [
        {
          "output_type": "stream",
          "text": [
            "result from vadar: 0.62\n",
            "result from lstm: 1.69\n",
            "result from Neural Network: 0.93\n",
            "result from SVC: positive:0.41, neutral:0.54, negative:0.05\n"
          ],
          "name": "stdout"
        },
        {
          "output_type": "execute_result",
          "data": {
            "text/plain": [
              "('Positive', 0.4121132626755566)"
            ]
          },
          "metadata": {
            "tags": []
          },
          "execution_count": 59
        }
      ]
    },
    {
      "cell_type": "code",
      "metadata": {
        "id": "A5bOgmOtkqgB",
        "colab": {
          "base_uri": "https://localhost:8080/"
        },
        "outputId": "c523b31f-2dd8-4b95-dc8e-9ab63e29dedf"
      },
      "source": [
        "predict_rating(\"Apple New iphone is coming\", lstm, NN)"
      ],
      "execution_count": 60,
      "outputs": [
        {
          "output_type": "stream",
          "text": [
            "result from vadar: 0.00\n",
            "result from lstm: 1.04\n",
            "result from Neural Network: 0.98\n",
            "result from SVC: positive:0.06, neutral:0.93, negative:0.01\n"
          ],
          "name": "stdout"
        },
        {
          "output_type": "execute_result",
          "data": {
            "text/plain": [
              "('Neutral', 0.0)"
            ]
          },
          "metadata": {
            "tags": []
          },
          "execution_count": 60
        }
      ]
    },
    {
      "cell_type": "code",
      "metadata": {
        "id": "_Swd2jvaoTLl",
        "colab": {
          "base_uri": "https://localhost:8080/"
        },
        "outputId": "f5732b8d-a9fd-4bec-8103-2bf1014f7548"
      },
      "source": [
        "predict_rating(\"The market is falling\", lstm, NN)"
      ],
      "execution_count": 61,
      "outputs": [
        {
          "output_type": "stream",
          "text": [
            "result from vadar: -1.00\n",
            "result from lstm: 0.48\n",
            "result from Neural Network: 0.22\n",
            "result from SVC: positive:0.05, neutral:0.93, negative:0.02\n"
          ],
          "name": "stdout"
        },
        {
          "output_type": "execute_result",
          "data": {
            "text/plain": [
              "('Negative', -0.018970463804799848)"
            ]
          },
          "metadata": {
            "tags": []
          },
          "execution_count": 61
        }
      ]
    },
    {
      "cell_type": "code",
      "metadata": {
        "colab": {
          "base_uri": "https://localhost:8080/",
          "height": 295
        },
        "id": "nEOTwmFTCdzi",
        "outputId": "b507bb10-7448-477f-8521-15540a225331"
      },
      "source": [
        "!zip -r saved_model.zip saved_model\n",
        "\n",
        "from google.colab import files\n",
        "files.download(\"saved_model.zip\")"
      ],
      "execution_count": 62,
      "outputs": [
        {
          "output_type": "stream",
          "text": [
            "  adding: saved_model/ (stored 0%)\n",
            "  adding: saved_model/count_vector.pickel (deflated 59%)\n",
            "  adding: saved_model/nn/ (stored 0%)\n",
            "  adding: saved_model/nn/variables/ (stored 0%)\n",
            "  adding: saved_model/nn/variables/variables.data-00000-of-00001 (deflated 12%)\n",
            "  adding: saved_model/nn/variables/variables.index (deflated 67%)\n",
            "  adding: saved_model/nn/assets/ (stored 0%)\n",
            "  adding: saved_model/nn/saved_model.pb (deflated 89%)\n",
            "  adding: saved_model/svc.pkl (deflated 100%)\n",
            "  adding: saved_model/lstm_encoder.pickel (deflated 98%)\n",
            "  adding: saved_model/lstm/ (stored 0%)\n",
            "  adding: saved_model/lstm/variables/ (stored 0%)\n",
            "  adding: saved_model/lstm/variables/variables.data-00000-of-00001 (deflated 8%)\n",
            "  adding: saved_model/lstm/variables/variables.index (deflated 70%)\n",
            "  adding: saved_model/lstm/assets/ (stored 0%)\n",
            "  adding: saved_model/lstm/saved_model.pb (deflated 90%)\n"
          ],
          "name": "stdout"
        },
        {
          "output_type": "display_data",
          "data": {
            "application/javascript": [
              "\n",
              "    async function download(id, filename, size) {\n",
              "      if (!google.colab.kernel.accessAllowed) {\n",
              "        return;\n",
              "      }\n",
              "      const div = document.createElement('div');\n",
              "      const label = document.createElement('label');\n",
              "      label.textContent = `Downloading \"${filename}\": `;\n",
              "      div.appendChild(label);\n",
              "      const progress = document.createElement('progress');\n",
              "      progress.max = size;\n",
              "      div.appendChild(progress);\n",
              "      document.body.appendChild(div);\n",
              "\n",
              "      const buffers = [];\n",
              "      let downloaded = 0;\n",
              "\n",
              "      const channel = await google.colab.kernel.comms.open(id);\n",
              "      // Send a message to notify the kernel that we're ready.\n",
              "      channel.send({})\n",
              "\n",
              "      for await (const message of channel.messages) {\n",
              "        // Send a message to notify the kernel that we're ready.\n",
              "        channel.send({})\n",
              "        if (message.buffers) {\n",
              "          for (const buffer of message.buffers) {\n",
              "            buffers.push(buffer);\n",
              "            downloaded += buffer.byteLength;\n",
              "            progress.value = downloaded;\n",
              "          }\n",
              "        }\n",
              "      }\n",
              "      const blob = new Blob(buffers, {type: 'application/binary'});\n",
              "      const a = document.createElement('a');\n",
              "      a.href = window.URL.createObjectURL(blob);\n",
              "      a.download = filename;\n",
              "      div.appendChild(a);\n",
              "      a.click();\n",
              "      div.remove();\n",
              "    }\n",
              "  "
            ],
            "text/plain": [
              "<IPython.core.display.Javascript object>"
            ]
          },
          "metadata": {
            "tags": []
          }
        },
        {
          "output_type": "display_data",
          "data": {
            "application/javascript": [
              "download(\"download_c5a6a7ce-ce8c-4f1d-8642-7125d713e835\", \"saved_model.zip\", 13734064)"
            ],
            "text/plain": [
              "<IPython.core.display.Javascript object>"
            ]
          },
          "metadata": {
            "tags": []
          }
        }
      ]
    }
  ]
}